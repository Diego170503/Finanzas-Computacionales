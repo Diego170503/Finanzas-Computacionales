{
  "nbformat": 4,
  "nbformat_minor": 0,
  "metadata": {
    "colab": {
      "provenance": []
    },
    "kernelspec": {
      "name": "python3",
      "display_name": "Python 3"
    },
    "language_info": {
      "name": "python"
    }
  },
  "cells": [
    {
      "cell_type": "markdown",
      "source": [
        "##TALLER #1 \n",
        "##Diego Alejandro Avila y Valentina González\n",
        "##Finanzas Computacionales\n",
        "\n"
      ],
      "metadata": {
        "id": "RZ3ZknVIzy9n"
      }
    },
    {
      "cell_type": "markdown",
      "source": [
        "####1. Escoja dos acciones de su preferencia en el mercado estadounidense. Para estas dos acciones descargue las series de precios diarios para el periodo Ene-21 a Dic-2022 usando pandas datareader. Con esta información:"
      ],
      "metadata": {
        "id": "gSd92Kmz0Jav"
      }
    },
    {
      "cell_type": "markdown",
      "source": [
        "####A.Calcule los retornos logarítmicos diarios, mensuales y anualizados. Presente los resultados en una tabla."
      ],
      "metadata": {
        "id": "XaU_bcUH0TFL"
      }
    },
    {
      "cell_type": "code",
      "source": [
        "# Librerias\n",
        "import pandas as pd\n",
        "import numpy as np\n",
        "from scipy import stats\n",
        "from matplotlib import pyplot as plt\n",
        "!pip install --quiet yfinance \n",
        "import yfinance as yf\n",
        "from pandas_datareader import data as wb\n",
        "from datetime import datetime\n",
        "import warnings\n",
        "warnings.filterwarnings(\"ignore\")\n",
        "import math"
      ],
      "metadata": {
        "id": "0YGeT4Eb0FCK"
      },
      "execution_count": null,
      "outputs": []
    },
    {
      "cell_type": "code",
      "source": [
        "yf.pdr_override()"
      ],
      "metadata": {
        "id": "ZksufkiFNxUQ"
      },
      "execution_count": null,
      "outputs": []
    },
    {
      "cell_type": "code",
      "source": [
        "activos=[\"AAPL\",\"DIS\"]\n",
        "precios_diarios =wb.get_data_yahoo(activos,start=\"2021-01-01\",end=\"2022-12-31\")[\"Adj Close\"]\n",
        "retornos_diarios=np.log(precios_diarios/precios_diarios.shift(1)).dropna()"
      ],
      "metadata": {
        "colab": {
          "base_uri": "https://localhost:8080/"
        },
        "id": "yVA3yMOK_BOK",
        "outputId": "89cf262a-5ae5-4877-965b-1ec744be72b4"
      },
      "execution_count": null,
      "outputs": [
        {
          "output_type": "stream",
          "name": "stdout",
          "text": [
            "[*********************100%***********************]  2 of 2 completed\n"
          ]
        }
      ]
    },
    {
      "cell_type": "code",
      "source": [
        "retornos_diarios.mean() #Retornos diarios"
      ],
      "metadata": {
        "colab": {
          "base_uri": "https://localhost:8080/"
        },
        "id": "P0P_Ee6qVpOL",
        "outputId": "d6074dd7-408b-483d-fc82-02514f08488f"
      },
      "execution_count": null,
      "outputs": [
        {
          "output_type": "execute_result",
          "data": {
            "text/plain": [
              "AAPL    0.000032\n",
              "DIS    -0.001425\n",
              "dtype: float64"
            ]
          },
          "metadata": {},
          "execution_count": 47
        }
      ]
    },
    {
      "cell_type": "code",
      "source": [
        "retornos_mensuales=retornos_diarios.mean()*21 #Retornos diarios mensualizados\n",
        "retornos_mensuales"
      ],
      "metadata": {
        "colab": {
          "base_uri": "https://localhost:8080/"
        },
        "id": "hw1v8B4S7J28",
        "outputId": "a30ce529-191e-4958-9c52-a54a8b458c66"
      },
      "execution_count": null,
      "outputs": [
        {
          "output_type": "execute_result",
          "data": {
            "text/plain": [
              "AAPL    0.000667\n",
              "DIS    -0.029929\n",
              "dtype: float64"
            ]
          },
          "metadata": {},
          "execution_count": 48
        }
      ]
    },
    {
      "cell_type": "code",
      "source": [
        "retornos_anuales=retornos_diarios.mean()*252 #Retornos diarios anualizados\n",
        "retornos_anuales"
      ],
      "metadata": {
        "colab": {
          "base_uri": "https://localhost:8080/"
        },
        "id": "JFzqAD68S8hh",
        "outputId": "1fc3d53a-363b-483c-dd03-a886416d166b"
      },
      "execution_count": null,
      "outputs": [
        {
          "output_type": "execute_result",
          "data": {
            "text/plain": [
              "AAPL    0.008003\n",
              "DIS    -0.359153\n",
              "dtype: float64"
            ]
          },
          "metadata": {},
          "execution_count": 49
        }
      ]
    },
    {
      "cell_type": "code",
      "source": [
        "tabla_diario = {'Empresa':['AAPL','DIS'],\n",
        "       'R_Diario':[retornos_diarios[\"AAPL\"].mean(),retornos_diarios['DIS'].mean()],\n",
        "       'R_Mensual':[retornos_mensuales[\"AAPL\"].mean(),retornos_mensuales['DIS'].mean()],\n",
        "        'R_Anual' :[retornos_anuales[\"AAPL\"].mean(),retornos_anuales['DIS'].mean()],}\n",
        "        \n",
        "df=pd.DataFrame(tabla_diario)\n",
        "df"
      ],
      "metadata": {
        "colab": {
          "base_uri": "https://localhost:8080/",
          "height": 112
        },
        "id": "yTIynalucRlw",
        "outputId": "a46eed61-2b6e-494e-a34b-82d213daf0af"
      },
      "execution_count": null,
      "outputs": [
        {
          "output_type": "execute_result",
          "data": {
            "text/plain": [
              "  Empresa  R_Diario  R_Mensual   R_Anual\n",
              "0    AAPL  0.000032   0.000667  0.008003\n",
              "1     DIS -0.001425  -0.029929 -0.359153"
            ],
            "text/html": [
              "\n",
              "  <div id=\"df-45d1f7c2-dae3-4e71-af2c-d692159da4f3\">\n",
              "    <div class=\"colab-df-container\">\n",
              "      <div>\n",
              "<style scoped>\n",
              "    .dataframe tbody tr th:only-of-type {\n",
              "        vertical-align: middle;\n",
              "    }\n",
              "\n",
              "    .dataframe tbody tr th {\n",
              "        vertical-align: top;\n",
              "    }\n",
              "\n",
              "    .dataframe thead th {\n",
              "        text-align: right;\n",
              "    }\n",
              "</style>\n",
              "<table border=\"1\" class=\"dataframe\">\n",
              "  <thead>\n",
              "    <tr style=\"text-align: right;\">\n",
              "      <th></th>\n",
              "      <th>Empresa</th>\n",
              "      <th>R_Diario</th>\n",
              "      <th>R_Mensual</th>\n",
              "      <th>R_Anual</th>\n",
              "    </tr>\n",
              "  </thead>\n",
              "  <tbody>\n",
              "    <tr>\n",
              "      <th>0</th>\n",
              "      <td>AAPL</td>\n",
              "      <td>0.000032</td>\n",
              "      <td>0.000667</td>\n",
              "      <td>0.008003</td>\n",
              "    </tr>\n",
              "    <tr>\n",
              "      <th>1</th>\n",
              "      <td>DIS</td>\n",
              "      <td>-0.001425</td>\n",
              "      <td>-0.029929</td>\n",
              "      <td>-0.359153</td>\n",
              "    </tr>\n",
              "  </tbody>\n",
              "</table>\n",
              "</div>\n",
              "      <button class=\"colab-df-convert\" onclick=\"convertToInteractive('df-45d1f7c2-dae3-4e71-af2c-d692159da4f3')\"\n",
              "              title=\"Convert this dataframe to an interactive table.\"\n",
              "              style=\"display:none;\">\n",
              "        \n",
              "  <svg xmlns=\"http://www.w3.org/2000/svg\" height=\"24px\"viewBox=\"0 0 24 24\"\n",
              "       width=\"24px\">\n",
              "    <path d=\"M0 0h24v24H0V0z\" fill=\"none\"/>\n",
              "    <path d=\"M18.56 5.44l.94 2.06.94-2.06 2.06-.94-2.06-.94-.94-2.06-.94 2.06-2.06.94zm-11 1L8.5 8.5l.94-2.06 2.06-.94-2.06-.94L8.5 2.5l-.94 2.06-2.06.94zm10 10l.94 2.06.94-2.06 2.06-.94-2.06-.94-.94-2.06-.94 2.06-2.06.94z\"/><path d=\"M17.41 7.96l-1.37-1.37c-.4-.4-.92-.59-1.43-.59-.52 0-1.04.2-1.43.59L10.3 9.45l-7.72 7.72c-.78.78-.78 2.05 0 2.83L4 21.41c.39.39.9.59 1.41.59.51 0 1.02-.2 1.41-.59l7.78-7.78 2.81-2.81c.8-.78.8-2.07 0-2.86zM5.41 20L4 18.59l7.72-7.72 1.47 1.35L5.41 20z\"/>\n",
              "  </svg>\n",
              "      </button>\n",
              "      \n",
              "  <style>\n",
              "    .colab-df-container {\n",
              "      display:flex;\n",
              "      flex-wrap:wrap;\n",
              "      gap: 12px;\n",
              "    }\n",
              "\n",
              "    .colab-df-convert {\n",
              "      background-color: #E8F0FE;\n",
              "      border: none;\n",
              "      border-radius: 50%;\n",
              "      cursor: pointer;\n",
              "      display: none;\n",
              "      fill: #1967D2;\n",
              "      height: 32px;\n",
              "      padding: 0 0 0 0;\n",
              "      width: 32px;\n",
              "    }\n",
              "\n",
              "    .colab-df-convert:hover {\n",
              "      background-color: #E2EBFA;\n",
              "      box-shadow: 0px 1px 2px rgba(60, 64, 67, 0.3), 0px 1px 3px 1px rgba(60, 64, 67, 0.15);\n",
              "      fill: #174EA6;\n",
              "    }\n",
              "\n",
              "    [theme=dark] .colab-df-convert {\n",
              "      background-color: #3B4455;\n",
              "      fill: #D2E3FC;\n",
              "    }\n",
              "\n",
              "    [theme=dark] .colab-df-convert:hover {\n",
              "      background-color: #434B5C;\n",
              "      box-shadow: 0px 1px 3px 1px rgba(0, 0, 0, 0.15);\n",
              "      filter: drop-shadow(0px 1px 2px rgba(0, 0, 0, 0.3));\n",
              "      fill: #FFFFFF;\n",
              "    }\n",
              "  </style>\n",
              "\n",
              "      <script>\n",
              "        const buttonEl =\n",
              "          document.querySelector('#df-45d1f7c2-dae3-4e71-af2c-d692159da4f3 button.colab-df-convert');\n",
              "        buttonEl.style.display =\n",
              "          google.colab.kernel.accessAllowed ? 'block' : 'none';\n",
              "\n",
              "        async function convertToInteractive(key) {\n",
              "          const element = document.querySelector('#df-45d1f7c2-dae3-4e71-af2c-d692159da4f3');\n",
              "          const dataTable =\n",
              "            await google.colab.kernel.invokeFunction('convertToInteractive',\n",
              "                                                     [key], {});\n",
              "          if (!dataTable) return;\n",
              "\n",
              "          const docLinkHtml = 'Like what you see? Visit the ' +\n",
              "            '<a target=\"_blank\" href=https://colab.research.google.com/notebooks/data_table.ipynb>data table notebook</a>'\n",
              "            + ' to learn more about interactive tables.';\n",
              "          element.innerHTML = '';\n",
              "          dataTable['output_type'] = 'display_data';\n",
              "          await google.colab.output.renderOutput(dataTable, element);\n",
              "          const docLink = document.createElement('div');\n",
              "          docLink.innerHTML = docLinkHtml;\n",
              "          element.appendChild(docLink);\n",
              "        }\n",
              "      </script>\n",
              "    </div>\n",
              "  </div>\n",
              "  "
            ]
          },
          "metadata": {},
          "execution_count": 50
        }
      ]
    },
    {
      "cell_type": "markdown",
      "source": [
        "####2.Calcule los retornos esperados y volatilidades anualizadas."
      ],
      "metadata": {
        "id": "EFWDZevzQeZl"
      }
    },
    {
      "cell_type": "code",
      "source": [
        "sigma_diario= retornos_diarios.std()\n",
        "sigma_diario"
      ],
      "metadata": {
        "colab": {
          "base_uri": "https://localhost:8080/"
        },
        "id": "VXF7ajeaV3Wj",
        "outputId": "1f6e9812-bfab-447a-c66a-946c16b93457"
      },
      "execution_count": null,
      "outputs": [
        {
          "output_type": "execute_result",
          "data": {
            "text/plain": [
              "AAPL    0.019412\n",
              "DIS     0.019992\n",
              "dtype: float64"
            ]
          },
          "metadata": {},
          "execution_count": 51
        }
      ]
    },
    {
      "cell_type": "code",
      "source": [
        "sigma_mensual= retornos_diarios.std()*np.sqrt(21) \n",
        "sigma_mensual"
      ],
      "metadata": {
        "colab": {
          "base_uri": "https://localhost:8080/"
        },
        "id": "YkpXZRjFVylB",
        "outputId": "de469b71-0b35-4351-9c74-027608a84547"
      },
      "execution_count": null,
      "outputs": [
        {
          "output_type": "execute_result",
          "data": {
            "text/plain": [
              "AAPL    0.088956\n",
              "DIS     0.091614\n",
              "dtype: float64"
            ]
          },
          "metadata": {},
          "execution_count": 52
        }
      ]
    },
    {
      "cell_type": "code",
      "source": [
        "sigma_anual= retornos_diarios.std()*np.sqrt(252) \n",
        "sigma_anual"
      ],
      "metadata": {
        "colab": {
          "base_uri": "https://localhost:8080/"
        },
        "id": "vh70BkNlSmqK",
        "outputId": "281fa69e-cae1-4b08-d8e6-35b8b3605b50"
      },
      "execution_count": null,
      "outputs": [
        {
          "output_type": "execute_result",
          "data": {
            "text/plain": [
              "AAPL    0.308152\n",
              "DIS     0.317359\n",
              "dtype: float64"
            ]
          },
          "metadata": {},
          "execution_count": 53
        }
      ]
    },
    {
      "cell_type": "markdown",
      "source": [
        "#### C. Construya una tabla resumen con las estadísticas descriptivas de las series diarias (media, mediana, desv. estándar, curtosis, simetría) de los dos activos."
      ],
      "metadata": {
        "id": "3OK-K01BUBLA"
      }
    },
    {
      "cell_type": "code",
      "source": [
        "retornos_diarios.kurt() #kurtosis"
      ],
      "metadata": {
        "colab": {
          "base_uri": "https://localhost:8080/"
        },
        "id": "KvyQgWWYdFJ2",
        "outputId": "589c2cd1-833e-4cee-f8a9-9f1559a5601a"
      },
      "execution_count": null,
      "outputs": [
        {
          "output_type": "execute_result",
          "data": {
            "text/plain": [
              "AAPL    1.143264\n",
              "DIS     5.097278\n",
              "dtype: float64"
            ]
          },
          "metadata": {},
          "execution_count": 54
        }
      ]
    },
    {
      "cell_type": "code",
      "source": [
        "retornos_diarios.skew() #simetría"
      ],
      "metadata": {
        "colab": {
          "base_uri": "https://localhost:8080/"
        },
        "id": "NZWeNBWXn4Vf",
        "outputId": "c0fd9f3c-a70b-4d54-ee29-d251ec3f6050"
      },
      "execution_count": null,
      "outputs": [
        {
          "output_type": "execute_result",
          "data": {
            "text/plain": [
              "AAPL    0.068949\n",
              "DIS    -0.579021\n",
              "dtype: float64"
            ]
          },
          "metadata": {},
          "execution_count": 55
        }
      ]
    },
    {
      "cell_type": "code",
      "source": [
        "tabla_resumen_diario = {'Empresa':['AAPL','DIS'],\n",
        "       'Media':[retornos_diarios[\"AAPL\"].mean(),retornos_diarios['DIS'].mean()],\n",
        "       'mediana':[retornos_diarios[\"AAPL\"].median(),retornos_diarios['DIS'].median()],\n",
        "        'desv.estándar' :[retornos_diarios[\"AAPL\"].std(),retornos_diarios['DIS'].std()],\n",
        "        'curtosis' :[retornos_diarios[\"AAPL\"].kurt(),retornos_diarios['DIS'].kurt()],\n",
        "        'Simetría' :[retornos_diarios[\"AAPL\"].skew(),retornos_diarios['DIS'].skew()]}\n",
        "        \n",
        "df=pd.DataFrame(tabla_resumen_diario)\n",
        "df"
      ],
      "metadata": {
        "colab": {
          "base_uri": "https://localhost:8080/",
          "height": 112
        },
        "id": "hf524tQ6oRcB",
        "outputId": "0b588caf-a729-4843-f8a3-002a1e70038e"
      },
      "execution_count": null,
      "outputs": [
        {
          "output_type": "execute_result",
          "data": {
            "text/plain": [
              "  Empresa     Media   mediana  desv.estándar  curtosis  Simetría\n",
              "0    AAPL  0.000032  0.000073       0.019412  1.143264  0.068949\n",
              "1     DIS -0.001425 -0.001267       0.019992  5.097278 -0.579021"
            ],
            "text/html": [
              "\n",
              "  <div id=\"df-bb102602-96ee-4def-aa93-5aa856f33780\">\n",
              "    <div class=\"colab-df-container\">\n",
              "      <div>\n",
              "<style scoped>\n",
              "    .dataframe tbody tr th:only-of-type {\n",
              "        vertical-align: middle;\n",
              "    }\n",
              "\n",
              "    .dataframe tbody tr th {\n",
              "        vertical-align: top;\n",
              "    }\n",
              "\n",
              "    .dataframe thead th {\n",
              "        text-align: right;\n",
              "    }\n",
              "</style>\n",
              "<table border=\"1\" class=\"dataframe\">\n",
              "  <thead>\n",
              "    <tr style=\"text-align: right;\">\n",
              "      <th></th>\n",
              "      <th>Empresa</th>\n",
              "      <th>Media</th>\n",
              "      <th>mediana</th>\n",
              "      <th>desv.estándar</th>\n",
              "      <th>curtosis</th>\n",
              "      <th>Simetría</th>\n",
              "    </tr>\n",
              "  </thead>\n",
              "  <tbody>\n",
              "    <tr>\n",
              "      <th>0</th>\n",
              "      <td>AAPL</td>\n",
              "      <td>0.000032</td>\n",
              "      <td>0.000073</td>\n",
              "      <td>0.019412</td>\n",
              "      <td>1.143264</td>\n",
              "      <td>0.068949</td>\n",
              "    </tr>\n",
              "    <tr>\n",
              "      <th>1</th>\n",
              "      <td>DIS</td>\n",
              "      <td>-0.001425</td>\n",
              "      <td>-0.001267</td>\n",
              "      <td>0.019992</td>\n",
              "      <td>5.097278</td>\n",
              "      <td>-0.579021</td>\n",
              "    </tr>\n",
              "  </tbody>\n",
              "</table>\n",
              "</div>\n",
              "      <button class=\"colab-df-convert\" onclick=\"convertToInteractive('df-bb102602-96ee-4def-aa93-5aa856f33780')\"\n",
              "              title=\"Convert this dataframe to an interactive table.\"\n",
              "              style=\"display:none;\">\n",
              "        \n",
              "  <svg xmlns=\"http://www.w3.org/2000/svg\" height=\"24px\"viewBox=\"0 0 24 24\"\n",
              "       width=\"24px\">\n",
              "    <path d=\"M0 0h24v24H0V0z\" fill=\"none\"/>\n",
              "    <path d=\"M18.56 5.44l.94 2.06.94-2.06 2.06-.94-2.06-.94-.94-2.06-.94 2.06-2.06.94zm-11 1L8.5 8.5l.94-2.06 2.06-.94-2.06-.94L8.5 2.5l-.94 2.06-2.06.94zm10 10l.94 2.06.94-2.06 2.06-.94-2.06-.94-.94-2.06-.94 2.06-2.06.94z\"/><path d=\"M17.41 7.96l-1.37-1.37c-.4-.4-.92-.59-1.43-.59-.52 0-1.04.2-1.43.59L10.3 9.45l-7.72 7.72c-.78.78-.78 2.05 0 2.83L4 21.41c.39.39.9.59 1.41.59.51 0 1.02-.2 1.41-.59l7.78-7.78 2.81-2.81c.8-.78.8-2.07 0-2.86zM5.41 20L4 18.59l7.72-7.72 1.47 1.35L5.41 20z\"/>\n",
              "  </svg>\n",
              "      </button>\n",
              "      \n",
              "  <style>\n",
              "    .colab-df-container {\n",
              "      display:flex;\n",
              "      flex-wrap:wrap;\n",
              "      gap: 12px;\n",
              "    }\n",
              "\n",
              "    .colab-df-convert {\n",
              "      background-color: #E8F0FE;\n",
              "      border: none;\n",
              "      border-radius: 50%;\n",
              "      cursor: pointer;\n",
              "      display: none;\n",
              "      fill: #1967D2;\n",
              "      height: 32px;\n",
              "      padding: 0 0 0 0;\n",
              "      width: 32px;\n",
              "    }\n",
              "\n",
              "    .colab-df-convert:hover {\n",
              "      background-color: #E2EBFA;\n",
              "      box-shadow: 0px 1px 2px rgba(60, 64, 67, 0.3), 0px 1px 3px 1px rgba(60, 64, 67, 0.15);\n",
              "      fill: #174EA6;\n",
              "    }\n",
              "\n",
              "    [theme=dark] .colab-df-convert {\n",
              "      background-color: #3B4455;\n",
              "      fill: #D2E3FC;\n",
              "    }\n",
              "\n",
              "    [theme=dark] .colab-df-convert:hover {\n",
              "      background-color: #434B5C;\n",
              "      box-shadow: 0px 1px 3px 1px rgba(0, 0, 0, 0.15);\n",
              "      filter: drop-shadow(0px 1px 2px rgba(0, 0, 0, 0.3));\n",
              "      fill: #FFFFFF;\n",
              "    }\n",
              "  </style>\n",
              "\n",
              "      <script>\n",
              "        const buttonEl =\n",
              "          document.querySelector('#df-bb102602-96ee-4def-aa93-5aa856f33780 button.colab-df-convert');\n",
              "        buttonEl.style.display =\n",
              "          google.colab.kernel.accessAllowed ? 'block' : 'none';\n",
              "\n",
              "        async function convertToInteractive(key) {\n",
              "          const element = document.querySelector('#df-bb102602-96ee-4def-aa93-5aa856f33780');\n",
              "          const dataTable =\n",
              "            await google.colab.kernel.invokeFunction('convertToInteractive',\n",
              "                                                     [key], {});\n",
              "          if (!dataTable) return;\n",
              "\n",
              "          const docLinkHtml = 'Like what you see? Visit the ' +\n",
              "            '<a target=\"_blank\" href=https://colab.research.google.com/notebooks/data_table.ipynb>data table notebook</a>'\n",
              "            + ' to learn more about interactive tables.';\n",
              "          element.innerHTML = '';\n",
              "          dataTable['output_type'] = 'display_data';\n",
              "          await google.colab.output.renderOutput(dataTable, element);\n",
              "          const docLink = document.createElement('div');\n",
              "          docLink.innerHTML = docLinkHtml;\n",
              "          element.appendChild(docLink);\n",
              "        }\n",
              "      </script>\n",
              "    </div>\n",
              "  </div>\n",
              "  "
            ]
          },
          "metadata": {},
          "execution_count": 56
        }
      ]
    },
    {
      "cell_type": "markdown",
      "source": [
        "#### D.Compare las distribuciones empíricas de los dos activos con la distribución teórica normal."
      ],
      "metadata": {
        "id": "iKdKQPhmckEz"
      }
    },
    {
      "cell_type": "code",
      "source": [
        "from scipy.stats import norm\n",
        "x= np.linspace(-0.2,0.2,num=1000) \n",
        "plt.hist(retornos_diarios[\"DIS\"],density=True, histtype=\"step\", bins=20); #Azul\n",
        "plt.hist(retornos_diarios[\"AAPL\"],density=True, histtype=\"step\", bins=20); #Naranja\n",
        "plt.xlabel(\"Retornos\");\n",
        "plt.ylabel(\"Probabilidad\");\n",
        "plt.plot(x,norm.pdf(x,scale=retornos_diarios[\"DIS\"].std()),\"r\")\n",
        "plt.plot(x,norm.pdf(x,scale=retornos_diarios[\"AAPL\"].std()),\"g\")\n",
        "plt.show();"
      ],
      "metadata": {
        "id": "d94YIHUzdF26",
        "colab": {
          "base_uri": "https://localhost:8080/",
          "height": 279
        },
        "outputId": "cd28a54c-ca06-433b-c8d7-49269686261d"
      },
      "execution_count": null,
      "outputs": [
        {
          "output_type": "display_data",
          "data": {
            "text/plain": [
              "<Figure size 432x288 with 1 Axes>"
            ],
            "image/png": "[encoded data removed]"
          },
          "metadata": {
            "needs_background": "light"
          }
        }
      ]
    },
    {
      "cell_type": "markdown",
      "source": [
        "####E. Calcule la matriz de correlaciones de Pearson, rango de Kendall y de Spearman."
      ],
      "metadata": {
        "id": "uK9scXNcc5gv"
      }
    },
    {
      "cell_type": "code",
      "source": [
        "retornos_diarios['DIS'].corr(retornos_diarios['AAPL'], method='kendall') #Correlación de Pearson"
      ],
      "metadata": {
        "id": "lBl9ujV8dGj6",
        "colab": {
          "base_uri": "https://localhost:8080/"
        },
        "outputId": "277c3e18-3993-41cf-a408-38c03884f361"
      },
      "execution_count": null,
      "outputs": [
        {
          "output_type": "execute_result",
          "data": {
            "text/plain": [
              "0.36685990568663474"
            ]
          },
          "metadata": {},
          "execution_count": 58
        }
      ]
    },
    {
      "cell_type": "code",
      "source": [
        "import scipy.stats as stats\n",
        "stats.kendalltau(retornos_diarios['DIS'], retornos_diarios['AAPL']) #Rango de Kendall"
      ],
      "metadata": {
        "colab": {
          "base_uri": "https://localhost:8080/"
        },
        "id": "hSVhBV18tHIi",
        "outputId": "74b22603-04d3-4562-b8bc-90f947a5e7d6"
      },
      "execution_count": null,
      "outputs": [
        {
          "output_type": "execute_result",
          "data": {
            "text/plain": [
              "KendalltauResult(correlation=0.36685990568663474, pvalue=1.0691146055454442e-34)"
            ]
          },
          "metadata": {},
          "execution_count": 59
        }
      ]
    },
    {
      "cell_type": "code",
      "source": [
        "retornos_diarios['DIS'].corr(retornos_diarios['AAPL'], method='spearman') #Rango de Spearman"
      ],
      "metadata": {
        "colab": {
          "base_uri": "https://localhost:8080/"
        },
        "id": "GWYWEQdEtTrW",
        "outputId": "223fbfdd-2166-404a-96b7-83a1271c1737"
      },
      "execution_count": null,
      "outputs": [
        {
          "output_type": "execute_result",
          "data": {
            "text/plain": [
              "0.5119969877042349"
            ]
          },
          "metadata": {},
          "execution_count": 60
        }
      ]
    },
    {
      "cell_type": "markdown",
      "source": [
        "####2. Escoja 10 acciones de su preferencia en el mercado estadounidense. Para estas acciones descargue las series de precios mensuales para el periodo Dic-17 a Dic-2022. Con esta información:\n",
        "####a. Calcule los retornos y volatilidades anualizadas."
      ],
      "metadata": {
        "id": "p8YO0ewjhYq4"
      }
    },
    {
      "cell_type": "code",
      "execution_count": null,
      "metadata": {
        "colab": {
          "base_uri": "https://localhost:8080/",
          "height": 1000
        },
        "id": "6TtAzbp__9s1",
        "outputId": "e67f3bc1-f5e7-4bed-bfb9-1a57e77faa88"
      },
      "outputs": [
        {
          "output_type": "stream",
          "name": "stdout",
          "text": [
            "[*********************100%***********************]  10 of 10 completed\n"
          ]
        },
        {
          "output_type": "execute_result",
          "data": {
            "text/plain": [
              "                AMZN      COST         F        HD       JNJ        KO  \\\n",
              "Date                                                                     \n",
              "2018-01-01  0.215627  0.045941 -0.129764  0.058260 -0.011011  0.036593   \n",
              "2018-02-01  0.041554 -0.020583 -0.009039 -0.097318 -0.062019 -0.096319   \n",
              "2018-03-01 -0.044003 -0.010351  0.043345 -0.022358 -0.007027  0.004847   \n",
              "2018-04-01  0.078880  0.045289  0.014337  0.041830 -0.013038  0.003710   \n",
              "2018-05-01  0.039739  0.005463  0.040534  0.009425 -0.055843 -0.004872   \n",
              "2018-06-01  0.042164  0.055672 -0.042447  0.050396  0.021666  0.019803   \n",
              "2018-07-01  0.044664  0.045508 -0.097661  0.012328  0.088137  0.070108   \n",
              "2018-08-01  0.124308  0.063849 -0.043433  0.016320  0.016242 -0.045183   \n",
              "2018-09-01 -0.004836  0.009958 -0.024561  0.036396  0.032151  0.035702   \n",
              "2018-10-01 -0.225887 -0.026970  0.031917 -0.163641  0.013086  0.044405   \n",
              "2018-11-01  0.056070  0.011524  0.003037  0.024931  0.048181  0.051293   \n",
              "2018-12-01 -0.118051 -0.124558 -0.207067 -0.042322 -0.123204 -0.054548   \n",
              "2019-01-01  0.134808  0.052218  0.140046  0.065931  0.030750  0.016339   \n",
              "2019-02-01 -0.046993  0.018968  0.013857  0.008734  0.026399 -0.059716   \n",
              "2019-03-01  0.082442  0.104330  0.001139  0.035810  0.029402  0.032974   \n",
              "2019-04-01  0.078681  0.013903  0.174126  0.067145  0.010036  0.054572   \n",
              "2019-05-01 -0.081875 -0.024532 -0.077292 -0.070414 -0.073836  0.001426   \n",
              "2019-06-01  0.064656  0.100743  0.071930  0.091160  0.066964  0.035786   \n",
              "2019-07-01 -0.014281  0.042126 -0.070880  0.034122 -0.067261  0.040807   \n",
              "2019-08-01 -0.049688  0.067102 -0.023692  0.064425 -0.014386  0.044774   \n",
              "2019-09-01 -0.022995 -0.020610 -0.001091  0.017873  0.015380 -0.010961   \n",
              "2019-10-01  0.023203  0.030760 -0.064247  0.017061  0.020351  0.007101   \n",
              "2019-11-01  0.013496  0.011217  0.069549 -0.061854  0.040447 -0.019105   \n",
              "2019-12-01  0.025786 -0.019841  0.026145 -0.009706  0.066069  0.043308   \n",
              "2020-01-01  0.083480  0.038708 -0.052993  0.049923  0.020358  0.053639   \n",
              "2020-02-01 -0.064233 -0.083163 -0.219979 -0.046023 -0.101658 -0.087821   \n",
              "2020-03-01  0.034421  0.016199 -0.365333 -0.154204 -0.018870 -0.189639   \n",
              "2020-04-01  0.238150  0.060787  0.052431  0.169966  0.134713  0.045124   \n",
              "2020-05-01 -0.012867  0.020174  0.114941  0.122508 -0.008635  0.017069   \n",
              "2020-06-01  0.121834 -0.017199  0.062786  0.008137 -0.049227 -0.043790   \n",
              "2020-07-01  0.137249  0.071029  0.083579  0.064032  0.035829  0.064759   \n",
              "2020-08-01  0.086601  0.067919  0.031276  0.071053  0.051153  0.047337   \n",
              "2020-09-01 -0.091653  0.020893 -0.023740 -0.026052 -0.023340 -0.003236   \n",
              "2020-10-01 -0.036409  0.007353  0.148989 -0.035156 -0.082357 -0.018830   \n",
              "2020-11-01  0.042523  0.093124  0.160965  0.039335  0.053741  0.071071   \n",
              "2020-12-01  0.027672 -0.039013 -0.032460 -0.043430  0.091064  0.068709   \n",
              "2021-01-01 -0.015699 -0.040953  0.180614  0.024825  0.035884 -0.130099   \n",
              "2021-02-01 -0.035968 -0.062734  0.105360 -0.047178 -0.029045  0.017295   \n",
              "2021-03-01  0.000372  0.064848  0.045937  0.166855  0.042713  0.073189   \n",
              "2021-04-01  0.113920  0.054142 -0.059707  0.064840 -0.009906  0.032097   \n",
              "2021-05-01 -0.073076  0.018612  0.230396 -0.014816  0.039285  0.023978   \n",
              "2021-06-01  0.065184  0.044972  0.022458 -0.000063 -0.020789 -0.021573   \n",
              "2021-07-01 -0.033270  0.082553 -0.063194  0.033976  0.044288  0.060065   \n",
              "2021-08-01  0.042134  0.060113 -0.068225 -0.006143  0.005386 -0.012705   \n",
              "2021-09-01 -0.055003 -0.013572  0.083167  0.006357 -0.063613 -0.070630   \n",
              "2021-10-01  0.026255  0.089741  0.187487  0.129460  0.008509  0.079214   \n",
              "2021-11-01  0.039147  0.094493  0.116481  0.074794 -0.043606 -0.072077   \n",
              "2021-12-01 -0.050506  0.051173  0.084143  0.035314  0.099194  0.128955   \n",
              "2022-01-01 -0.108510 -0.116777 -0.022889 -0.118868  0.007106  0.029947   \n",
              "2022-02-01  0.026323  0.027569 -0.139869 -0.150103 -0.045843  0.019960   \n",
              "2022-03-01  0.059624  0.104976 -0.037719 -0.053658  0.080511 -0.003864   \n",
              "2022-04-01 -0.271186 -0.079730 -0.177484  0.009585  0.018061  0.048861   \n",
              "2022-05-01 -0.033313 -0.129834 -0.027855  0.007793 -0.005167 -0.019221   \n",
              "2022-06-01 -0.123818  0.027627 -0.206291 -0.098794 -0.004910 -0.007443   \n",
              "2022-07-01  0.239486  0.121689  0.277523  0.099094 -0.016988  0.027030   \n",
              "2022-08-01 -0.062530 -0.034390  0.036757 -0.042493 -0.078525 -0.039090   \n",
              "2022-09-01 -0.114987 -0.100308 -0.298086 -0.037731  0.019139 -0.096737   \n",
              "2022-10-01 -0.098111  0.060053  0.177100  0.070615  0.062927  0.073397   \n",
              "2022-11-01 -0.059320  0.074379  0.038875  0.089914  0.022901  0.060929   \n",
              "2022-12-01 -0.139141 -0.166591 -0.167902 -0.019382 -0.001179  0.007067   \n",
              "\n",
              "                 MAT      MSFT      NFLX       PFE  \n",
              "Date                                                \n",
              "2018-01-01  0.029470  0.104998  0.342245  0.022387  \n",
              "2018-02-01  0.003781 -0.013137  0.075096 -0.019905  \n",
              "2018-03-01 -0.189897 -0.022336  0.013533 -0.013621  \n",
              "2018-04-01  0.118205  0.024353  0.056315  0.031070  \n",
              "2018-05-01  0.047502  0.055327  0.118018 -0.018749  \n",
              "2018-06-01  0.056371  0.001995  0.107312  0.019408  \n",
              "2018-07-01 -0.034070  0.073021 -0.148389  0.095861  \n",
              "2018-08-01 -0.028117  0.057248  0.085796  0.039047  \n",
              "2018-09-01  0.017347  0.021839  0.017390  0.068083  \n",
              "2018-10-01 -0.145063 -0.068387 -0.214905 -0.023185  \n",
              "2018-11-01  0.023291  0.037487 -0.053252  0.071035  \n",
              "2018-12-01 -0.330304 -0.083480 -0.066729 -0.049739  \n",
              "2019-01-01  0.169899  0.027769  0.237756 -0.027876  \n",
              "2019-02-01  0.197132  0.070250  0.053338  0.029675  \n",
              "2019-03-01 -0.103667  0.055671 -0.004310 -0.020509  \n",
              "2019-04-01 -0.064333  0.101963  0.038459 -0.044783  \n",
              "2019-05-01 -0.213144 -0.054442 -0.076415  0.022161  \n",
              "2019-06-01  0.129335  0.083538  0.067687  0.051269  \n",
              "2019-07-01  0.264215  0.017097 -0.128612 -0.109164  \n",
              "2019-08-01 -0.398639  0.011600 -0.094892 -0.088510  \n",
              "2019-09-01  0.150353  0.011775 -0.093161  0.019945  \n",
              "2019-10-01  0.047158  0.030739  0.071342  0.065703  \n",
              "2019-11-01 -0.020305  0.054365  0.090583  0.003902  \n",
              "2019-12-01  0.146798  0.044298  0.027923  0.026607  \n",
              "2020-01-01  0.076688  0.076456  0.064390 -0.050783  \n",
              "2020-02-01 -0.215823 -0.049492  0.067073 -0.098066  \n",
              "2020-03-01 -0.291364 -0.024172  0.017381 -0.023616  \n",
              "2020-04-01 -0.010268  0.127800  0.111639  0.161477  \n",
              "2020-05-01  0.054671  0.022293 -0.000286 -0.004441  \n",
              "2020-06-01  0.048738  0.107645  0.080774 -0.145282  \n",
              "2020-07-01  0.138817  0.007344  0.071732  0.162764  \n",
              "2020-08-01 -0.032940  0.095394  0.079929 -0.008368  \n",
              "2020-09-01  0.084683 -0.067361 -0.057378 -0.029268  \n",
              "2020-10-01  0.162904 -0.038086 -0.049797 -0.033807  \n",
              "2020-11-01  0.117702  0.055711  0.030962  0.129334  \n",
              "2020-12-01  0.119145  0.040879  0.097087 -0.029710  \n",
              "2021-01-01  0.037677  0.041997 -0.015544 -0.025032  \n",
              "2021-02-01  0.108666  0.001809  0.012061 -0.058670  \n",
              "2021-03-01 -0.013958  0.016783 -0.032421  0.078641  \n",
              "2021-04-01  0.074466  0.067286 -0.015824  0.064659  \n",
              "2021-05-01 -0.011718 -0.009963 -0.020979  0.002068  \n",
              "2021-06-01 -0.053753  0.083876  0.049282  0.020847  \n",
              "2021-07-01  0.077514  0.050423 -0.020349  0.089116  \n",
              "2021-08-01 -0.017182  0.057856  0.095070  0.082407  \n",
              "2021-09-01 -0.140043 -0.066494  0.069802 -0.068729  \n",
              "2021-10-01  0.161360  0.162366  0.123125  0.016830  \n",
              "2021-11-01 -0.027896 -0.003111 -0.072708  0.205709  \n",
              "2021-12-01  0.016367  0.019012 -0.063444  0.103152  \n",
              "2022-01-01 -0.030134 -0.078334 -0.343876 -0.113959  \n",
              "2022-02-01  0.177370 -0.039988 -0.079442 -0.107981  \n",
              "2022-03-01 -0.117533  0.033430 -0.051838  0.097941  \n",
              "2022-04-01  0.090345 -0.105213 -0.676915 -0.053563  \n",
              "2022-05-01  0.032777 -0.020569  0.036518  0.077799  \n",
              "2022-06-01 -0.117733 -0.054583 -0.121392 -0.003446  \n",
              "2022-07-01  0.038221  0.089015  0.251613 -0.037308  \n",
              "2022-08-01 -0.047670 -0.071110 -0.005976 -0.102681  \n",
              "2022-09-01 -0.155206 -0.113590  0.051776 -0.033040  \n",
              "2022-10-01  0.001055 -0.003312  0.214887  0.061807  \n",
              "2022-11-01 -0.039263  0.094515  0.045705  0.074093  \n",
              "2022-12-01 -0.021625 -0.059110 -0.035479  0.030435  "
            ],
            "text/html": [
              "\n",
              "  <div id=\"df-953a8ea4-377e-4753-9ed2-a2320123da89\">\n",
              "    <div class=\"colab-df-container\">\n",
              "      <div>\n",
              "<style scoped>\n",
              "    .dataframe tbody tr th:only-of-type {\n",
              "        vertical-align: middle;\n",
              "    }\n",
              "\n",
              "    .dataframe tbody tr th {\n",
              "        vertical-align: top;\n",
              "    }\n",
              "\n",
              "    .dataframe thead th {\n",
              "        text-align: right;\n",
              "    }\n",
              "</style>\n",
              "<table border=\"1\" class=\"dataframe\">\n",
              "  <thead>\n",
              "    <tr style=\"text-align: right;\">\n",
              "      <th></th>\n",
              "      <th>AMZN</th>\n",
              "      <th>COST</th>\n",
              "      <th>F</th>\n",
              "      <th>HD</th>\n",
              "      <th>JNJ</th>\n",
              "      <th>KO</th>\n",
              "      <th>MAT</th>\n",
              "      <th>MSFT</th>\n",
              "      <th>NFLX</th>\n",
              "      <th>PFE</th>\n",
              "    </tr>\n",
              "    <tr>\n",
              "      <th>Date</th>\n",
              "      <th></th>\n",
              "      <th></th>\n",
              "      <th></th>\n",
              "      <th></th>\n",
              "      <th></th>\n",
              "      <th></th>\n",
              "      <th></th>\n",
              "      <th></th>\n",
              "      <th></th>\n",
              "      <th></th>\n",
              "    </tr>\n",
              "  </thead>\n",
              "  <tbody>\n",
              "    <tr>\n",
              "      <th>2018-01-01</th>\n",
              "      <td>0.215627</td>\n",
              "      <td>0.045941</td>\n",
              "      <td>-0.129764</td>\n",
              "      <td>0.058260</td>\n",
              "      <td>-0.011011</td>\n",
              "      <td>0.036593</td>\n",
              "      <td>0.029470</td>\n",
              "      <td>0.104998</td>\n",
              "      <td>0.342245</td>\n",
              "      <td>0.022387</td>\n",
              "    </tr>\n",
              "    <tr>\n",
              "      <th>2018-02-01</th>\n",
              "      <td>0.041554</td>\n",
              "      <td>-0.020583</td>\n",
              "      <td>-0.009039</td>\n",
              "      <td>-0.097318</td>\n",
              "      <td>-0.062019</td>\n",
              "      <td>-0.096319</td>\n",
              "      <td>0.003781</td>\n",
              "      <td>-0.013137</td>\n",
              "      <td>0.075096</td>\n",
              "      <td>-0.019905</td>\n",
              "    </tr>\n",
              "    <tr>\n",
              "      <th>2018-03-01</th>\n",
              "      <td>-0.044003</td>\n",
              "      <td>-0.010351</td>\n",
              "      <td>0.043345</td>\n",
              "      <td>-0.022358</td>\n",
              "      <td>-0.007027</td>\n",
              "      <td>0.004847</td>\n",
              "      <td>-0.189897</td>\n",
              "      <td>-0.022336</td>\n",
              "      <td>0.013533</td>\n",
              "      <td>-0.013621</td>\n",
              "    </tr>\n",
              "    <tr>\n",
              "      <th>2018-04-01</th>\n",
              "      <td>0.078880</td>\n",
              "      <td>0.045289</td>\n",
              "      <td>0.014337</td>\n",
              "      <td>0.041830</td>\n",
              "      <td>-0.013038</td>\n",
              "      <td>0.003710</td>\n",
              "      <td>0.118205</td>\n",
              "      <td>0.024353</td>\n",
              "      <td>0.056315</td>\n",
              "      <td>0.031070</td>\n",
              "    </tr>\n",
              "    <tr>\n",
              "      <th>2018-05-01</th>\n",
              "      <td>0.039739</td>\n",
              "      <td>0.005463</td>\n",
              "      <td>0.040534</td>\n",
              "      <td>0.009425</td>\n",
              "      <td>-0.055843</td>\n",
              "      <td>-0.004872</td>\n",
              "      <td>0.047502</td>\n",
              "      <td>0.055327</td>\n",
              "      <td>0.118018</td>\n",
              "      <td>-0.018749</td>\n",
              "    </tr>\n",
              "    <tr>\n",
              "      <th>2018-06-01</th>\n",
              "      <td>0.042164</td>\n",
              "      <td>0.055672</td>\n",
              "      <td>-0.042447</td>\n",
              "      <td>0.050396</td>\n",
              "      <td>0.021666</td>\n",
              "      <td>0.019803</td>\n",
              "      <td>0.056371</td>\n",
              "      <td>0.001995</td>\n",
              "      <td>0.107312</td>\n",
              "      <td>0.019408</td>\n",
              "    </tr>\n",
              "    <tr>\n",
              "      <th>2018-07-01</th>\n",
              "      <td>0.044664</td>\n",
              "      <td>0.045508</td>\n",
              "      <td>-0.097661</td>\n",
              "      <td>0.012328</td>\n",
              "      <td>0.088137</td>\n",
              "      <td>0.070108</td>\n",
              "      <td>-0.034070</td>\n",
              "      <td>0.073021</td>\n",
              "      <td>-0.148389</td>\n",
              "      <td>0.095861</td>\n",
              "    </tr>\n",
              "    <tr>\n",
              "      <th>2018-08-01</th>\n",
              "      <td>0.124308</td>\n",
              "      <td>0.063849</td>\n",
              "      <td>-0.043433</td>\n",
              "      <td>0.016320</td>\n",
              "      <td>0.016242</td>\n",
              "      <td>-0.045183</td>\n",
              "      <td>-0.028117</td>\n",
              "      <td>0.057248</td>\n",
              "      <td>0.085796</td>\n",
              "      <td>0.039047</td>\n",
              "    </tr>\n",
              "    <tr>\n",
              "      <th>2018-09-01</th>\n",
              "      <td>-0.004836</td>\n",
              "      <td>0.009958</td>\n",
              "      <td>-0.024561</td>\n",
              "      <td>0.036396</td>\n",
              "      <td>0.032151</td>\n",
              "      <td>0.035702</td>\n",
              "      <td>0.017347</td>\n",
              "      <td>0.021839</td>\n",
              "      <td>0.017390</td>\n",
              "      <td>0.068083</td>\n",
              "    </tr>\n",
              "    <tr>\n",
              "      <th>2018-10-01</th>\n",
              "      <td>-0.225887</td>\n",
              "      <td>-0.026970</td>\n",
              "      <td>0.031917</td>\n",
              "      <td>-0.163641</td>\n",
              "      <td>0.013086</td>\n",
              "      <td>0.044405</td>\n",
              "      <td>-0.145063</td>\n",
              "      <td>-0.068387</td>\n",
              "      <td>-0.214905</td>\n",
              "      <td>-0.023185</td>\n",
              "    </tr>\n",
              "    <tr>\n",
              "      <th>2018-11-01</th>\n",
              "      <td>0.056070</td>\n",
              "      <td>0.011524</td>\n",
              "      <td>0.003037</td>\n",
              "      <td>0.024931</td>\n",
              "      <td>0.048181</td>\n",
              "      <td>0.051293</td>\n",
              "      <td>0.023291</td>\n",
              "      <td>0.037487</td>\n",
              "      <td>-0.053252</td>\n",
              "      <td>0.071035</td>\n",
              "    </tr>\n",
              "    <tr>\n",
              "      <th>2018-12-01</th>\n",
              "      <td>-0.118051</td>\n",
              "      <td>-0.124558</td>\n",
              "      <td>-0.207067</td>\n",
              "      <td>-0.042322</td>\n",
              "      <td>-0.123204</td>\n",
              "      <td>-0.054548</td>\n",
              "      <td>-0.330304</td>\n",
              "      <td>-0.083480</td>\n",
              "      <td>-0.066729</td>\n",
              "      <td>-0.049739</td>\n",
              "    </tr>\n",
              "    <tr>\n",
              "      <th>2019-01-01</th>\n",
              "      <td>0.134808</td>\n",
              "      <td>0.052218</td>\n",
              "      <td>0.140046</td>\n",
              "      <td>0.065931</td>\n",
              "      <td>0.030750</td>\n",
              "      <td>0.016339</td>\n",
              "      <td>0.169899</td>\n",
              "      <td>0.027769</td>\n",
              "      <td>0.237756</td>\n",
              "      <td>-0.027876</td>\n",
              "    </tr>\n",
              "    <tr>\n",
              "      <th>2019-02-01</th>\n",
              "      <td>-0.046993</td>\n",
              "      <td>0.018968</td>\n",
              "      <td>0.013857</td>\n",
              "      <td>0.008734</td>\n",
              "      <td>0.026399</td>\n",
              "      <td>-0.059716</td>\n",
              "      <td>0.197132</td>\n",
              "      <td>0.070250</td>\n",
              "      <td>0.053338</td>\n",
              "      <td>0.029675</td>\n",
              "    </tr>\n",
              "    <tr>\n",
              "      <th>2019-03-01</th>\n",
              "      <td>0.082442</td>\n",
              "      <td>0.104330</td>\n",
              "      <td>0.001139</td>\n",
              "      <td>0.035810</td>\n",
              "      <td>0.029402</td>\n",
              "      <td>0.032974</td>\n",
              "      <td>-0.103667</td>\n",
              "      <td>0.055671</td>\n",
              "      <td>-0.004310</td>\n",
              "      <td>-0.020509</td>\n",
              "    </tr>\n",
              "    <tr>\n",
              "      <th>2019-04-01</th>\n",
              "      <td>0.078681</td>\n",
              "      <td>0.013903</td>\n",
              "      <td>0.174126</td>\n",
              "      <td>0.067145</td>\n",
              "      <td>0.010036</td>\n",
              "      <td>0.054572</td>\n",
              "      <td>-0.064333</td>\n",
              "      <td>0.101963</td>\n",
              "      <td>0.038459</td>\n",
              "      <td>-0.044783</td>\n",
              "    </tr>\n",
              "    <tr>\n",
              "      <th>2019-05-01</th>\n",
              "      <td>-0.081875</td>\n",
              "      <td>-0.024532</td>\n",
              "      <td>-0.077292</td>\n",
              "      <td>-0.070414</td>\n",
              "      <td>-0.073836</td>\n",
              "      <td>0.001426</td>\n",
              "      <td>-0.213144</td>\n",
              "      <td>-0.054442</td>\n",
              "      <td>-0.076415</td>\n",
              "      <td>0.022161</td>\n",
              "    </tr>\n",
              "    <tr>\n",
              "      <th>2019-06-01</th>\n",
              "      <td>0.064656</td>\n",
              "      <td>0.100743</td>\n",
              "      <td>0.071930</td>\n",
              "      <td>0.091160</td>\n",
              "      <td>0.066964</td>\n",
              "      <td>0.035786</td>\n",
              "      <td>0.129335</td>\n",
              "      <td>0.083538</td>\n",
              "      <td>0.067687</td>\n",
              "      <td>0.051269</td>\n",
              "    </tr>\n",
              "    <tr>\n",
              "      <th>2019-07-01</th>\n",
              "      <td>-0.014281</td>\n",
              "      <td>0.042126</td>\n",
              "      <td>-0.070880</td>\n",
              "      <td>0.034122</td>\n",
              "      <td>-0.067261</td>\n",
              "      <td>0.040807</td>\n",
              "      <td>0.264215</td>\n",
              "      <td>0.017097</td>\n",
              "      <td>-0.128612</td>\n",
              "      <td>-0.109164</td>\n",
              "    </tr>\n",
              "    <tr>\n",
              "      <th>2019-08-01</th>\n",
              "      <td>-0.049688</td>\n",
              "      <td>0.067102</td>\n",
              "      <td>-0.023692</td>\n",
              "      <td>0.064425</td>\n",
              "      <td>-0.014386</td>\n",
              "      <td>0.044774</td>\n",
              "      <td>-0.398639</td>\n",
              "      <td>0.011600</td>\n",
              "      <td>-0.094892</td>\n",
              "      <td>-0.088510</td>\n",
              "    </tr>\n",
              "    <tr>\n",
              "      <th>2019-09-01</th>\n",
              "      <td>-0.022995</td>\n",
              "      <td>-0.020610</td>\n",
              "      <td>-0.001091</td>\n",
              "      <td>0.017873</td>\n",
              "      <td>0.015380</td>\n",
              "      <td>-0.010961</td>\n",
              "      <td>0.150353</td>\n",
              "      <td>0.011775</td>\n",
              "      <td>-0.093161</td>\n",
              "      <td>0.019945</td>\n",
              "    </tr>\n",
              "    <tr>\n",
              "      <th>2019-10-01</th>\n",
              "      <td>0.023203</td>\n",
              "      <td>0.030760</td>\n",
              "      <td>-0.064247</td>\n",
              "      <td>0.017061</td>\n",
              "      <td>0.020351</td>\n",
              "      <td>0.007101</td>\n",
              "      <td>0.047158</td>\n",
              "      <td>0.030739</td>\n",
              "      <td>0.071342</td>\n",
              "      <td>0.065703</td>\n",
              "    </tr>\n",
              "    <tr>\n",
              "      <th>2019-11-01</th>\n",
              "      <td>0.013496</td>\n",
              "      <td>0.011217</td>\n",
              "      <td>0.069549</td>\n",
              "      <td>-0.061854</td>\n",
              "      <td>0.040447</td>\n",
              "      <td>-0.019105</td>\n",
              "      <td>-0.020305</td>\n",
              "      <td>0.054365</td>\n",
              "      <td>0.090583</td>\n",
              "      <td>0.003902</td>\n",
              "    </tr>\n",
              "    <tr>\n",
              "      <th>2019-12-01</th>\n",
              "      <td>0.025786</td>\n",
              "      <td>-0.019841</td>\n",
              "      <td>0.026145</td>\n",
              "      <td>-0.009706</td>\n",
              "      <td>0.066069</td>\n",
              "      <td>0.043308</td>\n",
              "      <td>0.146798</td>\n",
              "      <td>0.044298</td>\n",
              "      <td>0.027923</td>\n",
              "      <td>0.026607</td>\n",
              "    </tr>\n",
              "    <tr>\n",
              "      <th>2020-01-01</th>\n",
              "      <td>0.083480</td>\n",
              "      <td>0.038708</td>\n",
              "      <td>-0.052993</td>\n",
              "      <td>0.049923</td>\n",
              "      <td>0.020358</td>\n",
              "      <td>0.053639</td>\n",
              "      <td>0.076688</td>\n",
              "      <td>0.076456</td>\n",
              "      <td>0.064390</td>\n",
              "      <td>-0.050783</td>\n",
              "    </tr>\n",
              "    <tr>\n",
              "      <th>2020-02-01</th>\n",
              "      <td>-0.064233</td>\n",
              "      <td>-0.083163</td>\n",
              "      <td>-0.219979</td>\n",
              "      <td>-0.046023</td>\n",
              "      <td>-0.101658</td>\n",
              "      <td>-0.087821</td>\n",
              "      <td>-0.215823</td>\n",
              "      <td>-0.049492</td>\n",
              "      <td>0.067073</td>\n",
              "      <td>-0.098066</td>\n",
              "    </tr>\n",
              "    <tr>\n",
              "      <th>2020-03-01</th>\n",
              "      <td>0.034421</td>\n",
              "      <td>0.016199</td>\n",
              "      <td>-0.365333</td>\n",
              "      <td>-0.154204</td>\n",
              "      <td>-0.018870</td>\n",
              "      <td>-0.189639</td>\n",
              "      <td>-0.291364</td>\n",
              "      <td>-0.024172</td>\n",
              "      <td>0.017381</td>\n",
              "      <td>-0.023616</td>\n",
              "    </tr>\n",
              "    <tr>\n",
              "      <th>2020-04-01</th>\n",
              "      <td>0.238150</td>\n",
              "      <td>0.060787</td>\n",
              "      <td>0.052431</td>\n",
              "      <td>0.169966</td>\n",
              "      <td>0.134713</td>\n",
              "      <td>0.045124</td>\n",
              "      <td>-0.010268</td>\n",
              "      <td>0.127800</td>\n",
              "      <td>0.111639</td>\n",
              "      <td>0.161477</td>\n",
              "    </tr>\n",
              "    <tr>\n",
              "      <th>2020-05-01</th>\n",
              "      <td>-0.012867</td>\n",
              "      <td>0.020174</td>\n",
              "      <td>0.114941</td>\n",
              "      <td>0.122508</td>\n",
              "      <td>-0.008635</td>\n",
              "      <td>0.017069</td>\n",
              "      <td>0.054671</td>\n",
              "      <td>0.022293</td>\n",
              "      <td>-0.000286</td>\n",
              "      <td>-0.004441</td>\n",
              "    </tr>\n",
              "    <tr>\n",
              "      <th>2020-06-01</th>\n",
              "      <td>0.121834</td>\n",
              "      <td>-0.017199</td>\n",
              "      <td>0.062786</td>\n",
              "      <td>0.008137</td>\n",
              "      <td>-0.049227</td>\n",
              "      <td>-0.043790</td>\n",
              "      <td>0.048738</td>\n",
              "      <td>0.107645</td>\n",
              "      <td>0.080774</td>\n",
              "      <td>-0.145282</td>\n",
              "    </tr>\n",
              "    <tr>\n",
              "      <th>2020-07-01</th>\n",
              "      <td>0.137249</td>\n",
              "      <td>0.071029</td>\n",
              "      <td>0.083579</td>\n",
              "      <td>0.064032</td>\n",
              "      <td>0.035829</td>\n",
              "      <td>0.064759</td>\n",
              "      <td>0.138817</td>\n",
              "      <td>0.007344</td>\n",
              "      <td>0.071732</td>\n",
              "      <td>0.162764</td>\n",
              "    </tr>\n",
              "    <tr>\n",
              "      <th>2020-08-01</th>\n",
              "      <td>0.086601</td>\n",
              "      <td>0.067919</td>\n",
              "      <td>0.031276</td>\n",
              "      <td>0.071053</td>\n",
              "      <td>0.051153</td>\n",
              "      <td>0.047337</td>\n",
              "      <td>-0.032940</td>\n",
              "      <td>0.095394</td>\n",
              "      <td>0.079929</td>\n",
              "      <td>-0.008368</td>\n",
              "    </tr>\n",
              "    <tr>\n",
              "      <th>2020-09-01</th>\n",
              "      <td>-0.091653</td>\n",
              "      <td>0.020893</td>\n",
              "      <td>-0.023740</td>\n",
              "      <td>-0.026052</td>\n",
              "      <td>-0.023340</td>\n",
              "      <td>-0.003236</td>\n",
              "      <td>0.084683</td>\n",
              "      <td>-0.067361</td>\n",
              "      <td>-0.057378</td>\n",
              "      <td>-0.029268</td>\n",
              "    </tr>\n",
              "    <tr>\n",
              "      <th>2020-10-01</th>\n",
              "      <td>-0.036409</td>\n",
              "      <td>0.007353</td>\n",
              "      <td>0.148989</td>\n",
              "      <td>-0.035156</td>\n",
              "      <td>-0.082357</td>\n",
              "      <td>-0.018830</td>\n",
              "      <td>0.162904</td>\n",
              "      <td>-0.038086</td>\n",
              "      <td>-0.049797</td>\n",
              "      <td>-0.033807</td>\n",
              "    </tr>\n",
              "    <tr>\n",
              "      <th>2020-11-01</th>\n",
              "      <td>0.042523</td>\n",
              "      <td>0.093124</td>\n",
              "      <td>0.160965</td>\n",
              "      <td>0.039335</td>\n",
              "      <td>0.053741</td>\n",
              "      <td>0.071071</td>\n",
              "      <td>0.117702</td>\n",
              "      <td>0.055711</td>\n",
              "      <td>0.030962</td>\n",
              "      <td>0.129334</td>\n",
              "    </tr>\n",
              "    <tr>\n",
              "      <th>2020-12-01</th>\n",
              "      <td>0.027672</td>\n",
              "      <td>-0.039013</td>\n",
              "      <td>-0.032460</td>\n",
              "      <td>-0.043430</td>\n",
              "      <td>0.091064</td>\n",
              "      <td>0.068709</td>\n",
              "      <td>0.119145</td>\n",
              "      <td>0.040879</td>\n",
              "      <td>0.097087</td>\n",
              "      <td>-0.029710</td>\n",
              "    </tr>\n",
              "    <tr>\n",
              "      <th>2021-01-01</th>\n",
              "      <td>-0.015699</td>\n",
              "      <td>-0.040953</td>\n",
              "      <td>0.180614</td>\n",
              "      <td>0.024825</td>\n",
              "      <td>0.035884</td>\n",
              "      <td>-0.130099</td>\n",
              "      <td>0.037677</td>\n",
              "      <td>0.041997</td>\n",
              "      <td>-0.015544</td>\n",
              "      <td>-0.025032</td>\n",
              "    </tr>\n",
              "    <tr>\n",
              "      <th>2021-02-01</th>\n",
              "      <td>-0.035968</td>\n",
              "      <td>-0.062734</td>\n",
              "      <td>0.105360</td>\n",
              "      <td>-0.047178</td>\n",
              "      <td>-0.029045</td>\n",
              "      <td>0.017295</td>\n",
              "      <td>0.108666</td>\n",
              "      <td>0.001809</td>\n",
              "      <td>0.012061</td>\n",
              "      <td>-0.058670</td>\n",
              "    </tr>\n",
              "    <tr>\n",
              "      <th>2021-03-01</th>\n",
              "      <td>0.000372</td>\n",
              "      <td>0.064848</td>\n",
              "      <td>0.045937</td>\n",
              "      <td>0.166855</td>\n",
              "      <td>0.042713</td>\n",
              "      <td>0.073189</td>\n",
              "      <td>-0.013958</td>\n",
              "      <td>0.016783</td>\n",
              "      <td>-0.032421</td>\n",
              "      <td>0.078641</td>\n",
              "    </tr>\n",
              "    <tr>\n",
              "      <th>2021-04-01</th>\n",
              "      <td>0.113920</td>\n",
              "      <td>0.054142</td>\n",
              "      <td>-0.059707</td>\n",
              "      <td>0.064840</td>\n",
              "      <td>-0.009906</td>\n",
              "      <td>0.032097</td>\n",
              "      <td>0.074466</td>\n",
              "      <td>0.067286</td>\n",
              "      <td>-0.015824</td>\n",
              "      <td>0.064659</td>\n",
              "    </tr>\n",
              "    <tr>\n",
              "      <th>2021-05-01</th>\n",
              "      <td>-0.073076</td>\n",
              "      <td>0.018612</td>\n",
              "      <td>0.230396</td>\n",
              "      <td>-0.014816</td>\n",
              "      <td>0.039285</td>\n",
              "      <td>0.023978</td>\n",
              "      <td>-0.011718</td>\n",
              "      <td>-0.009963</td>\n",
              "      <td>-0.020979</td>\n",
              "      <td>0.002068</td>\n",
              "    </tr>\n",
              "    <tr>\n",
              "      <th>2021-06-01</th>\n",
              "      <td>0.065184</td>\n",
              "      <td>0.044972</td>\n",
              "      <td>0.022458</td>\n",
              "      <td>-0.000063</td>\n",
              "      <td>-0.020789</td>\n",
              "      <td>-0.021573</td>\n",
              "      <td>-0.053753</td>\n",
              "      <td>0.083876</td>\n",
              "      <td>0.049282</td>\n",
              "      <td>0.020847</td>\n",
              "    </tr>\n",
              "    <tr>\n",
              "      <th>2021-07-01</th>\n",
              "      <td>-0.033270</td>\n",
              "      <td>0.082553</td>\n",
              "      <td>-0.063194</td>\n",
              "      <td>0.033976</td>\n",
              "      <td>0.044288</td>\n",
              "      <td>0.060065</td>\n",
              "      <td>0.077514</td>\n",
              "      <td>0.050423</td>\n",
              "      <td>-0.020349</td>\n",
              "      <td>0.089116</td>\n",
              "    </tr>\n",
              "    <tr>\n",
              "      <th>2021-08-01</th>\n",
              "      <td>0.042134</td>\n",
              "      <td>0.060113</td>\n",
              "      <td>-0.068225</td>\n",
              "      <td>-0.006143</td>\n",
              "      <td>0.005386</td>\n",
              "      <td>-0.012705</td>\n",
              "      <td>-0.017182</td>\n",
              "      <td>0.057856</td>\n",
              "      <td>0.095070</td>\n",
              "      <td>0.082407</td>\n",
              "    </tr>\n",
              "    <tr>\n",
              "      <th>2021-09-01</th>\n",
              "      <td>-0.055003</td>\n",
              "      <td>-0.013572</td>\n",
              "      <td>0.083167</td>\n",
              "      <td>0.006357</td>\n",
              "      <td>-0.063613</td>\n",
              "      <td>-0.070630</td>\n",
              "      <td>-0.140043</td>\n",
              "      <td>-0.066494</td>\n",
              "      <td>0.069802</td>\n",
              "      <td>-0.068729</td>\n",
              "    </tr>\n",
              "    <tr>\n",
              "      <th>2021-10-01</th>\n",
              "      <td>0.026255</td>\n",
              "      <td>0.089741</td>\n",
              "      <td>0.187487</td>\n",
              "      <td>0.129460</td>\n",
              "      <td>0.008509</td>\n",
              "      <td>0.079214</td>\n",
              "      <td>0.161360</td>\n",
              "      <td>0.162366</td>\n",
              "      <td>0.123125</td>\n",
              "      <td>0.016830</td>\n",
              "    </tr>\n",
              "    <tr>\n",
              "      <th>2021-11-01</th>\n",
              "      <td>0.039147</td>\n",
              "      <td>0.094493</td>\n",
              "      <td>0.116481</td>\n",
              "      <td>0.074794</td>\n",
              "      <td>-0.043606</td>\n",
              "      <td>-0.072077</td>\n",
              "      <td>-0.027896</td>\n",
              "      <td>-0.003111</td>\n",
              "      <td>-0.072708</td>\n",
              "      <td>0.205709</td>\n",
              "    </tr>\n",
              "    <tr>\n",
              "      <th>2021-12-01</th>\n",
              "      <td>-0.050506</td>\n",
              "      <td>0.051173</td>\n",
              "      <td>0.084143</td>\n",
              "      <td>0.035314</td>\n",
              "      <td>0.099194</td>\n",
              "      <td>0.128955</td>\n",
              "      <td>0.016367</td>\n",
              "      <td>0.019012</td>\n",
              "      <td>-0.063444</td>\n",
              "      <td>0.103152</td>\n",
              "    </tr>\n",
              "    <tr>\n",
              "      <th>2022-01-01</th>\n",
              "      <td>-0.108510</td>\n",
              "      <td>-0.116777</td>\n",
              "      <td>-0.022889</td>\n",
              "      <td>-0.118868</td>\n",
              "      <td>0.007106</td>\n",
              "      <td>0.029947</td>\n",
              "      <td>-0.030134</td>\n",
              "      <td>-0.078334</td>\n",
              "      <td>-0.343876</td>\n",
              "      <td>-0.113959</td>\n",
              "    </tr>\n",
              "    <tr>\n",
              "      <th>2022-02-01</th>\n",
              "      <td>0.026323</td>\n",
              "      <td>0.027569</td>\n",
              "      <td>-0.139869</td>\n",
              "      <td>-0.150103</td>\n",
              "      <td>-0.045843</td>\n",
              "      <td>0.019960</td>\n",
              "      <td>0.177370</td>\n",
              "      <td>-0.039988</td>\n",
              "      <td>-0.079442</td>\n",
              "      <td>-0.107981</td>\n",
              "    </tr>\n",
              "    <tr>\n",
              "      <th>2022-03-01</th>\n",
              "      <td>0.059624</td>\n",
              "      <td>0.104976</td>\n",
              "      <td>-0.037719</td>\n",
              "      <td>-0.053658</td>\n",
              "      <td>0.080511</td>\n",
              "      <td>-0.003864</td>\n",
              "      <td>-0.117533</td>\n",
              "      <td>0.033430</td>\n",
              "      <td>-0.051838</td>\n",
              "      <td>0.097941</td>\n",
              "    </tr>\n",
              "    <tr>\n",
              "      <th>2022-04-01</th>\n",
              "      <td>-0.271186</td>\n",
              "      <td>-0.079730</td>\n",
              "      <td>-0.177484</td>\n",
              "      <td>0.009585</td>\n",
              "      <td>0.018061</td>\n",
              "      <td>0.048861</td>\n",
              "      <td>0.090345</td>\n",
              "      <td>-0.105213</td>\n",
              "      <td>-0.676915</td>\n",
              "      <td>-0.053563</td>\n",
              "    </tr>\n",
              "    <tr>\n",
              "      <th>2022-05-01</th>\n",
              "      <td>-0.033313</td>\n",
              "      <td>-0.129834</td>\n",
              "      <td>-0.027855</td>\n",
              "      <td>0.007793</td>\n",
              "      <td>-0.005167</td>\n",
              "      <td>-0.019221</td>\n",
              "      <td>0.032777</td>\n",
              "      <td>-0.020569</td>\n",
              "      <td>0.036518</td>\n",
              "      <td>0.077799</td>\n",
              "    </tr>\n",
              "    <tr>\n",
              "      <th>2022-06-01</th>\n",
              "      <td>-0.123818</td>\n",
              "      <td>0.027627</td>\n",
              "      <td>-0.206291</td>\n",
              "      <td>-0.098794</td>\n",
              "      <td>-0.004910</td>\n",
              "      <td>-0.007443</td>\n",
              "      <td>-0.117733</td>\n",
              "      <td>-0.054583</td>\n",
              "      <td>-0.121392</td>\n",
              "      <td>-0.003446</td>\n",
              "    </tr>\n",
              "    <tr>\n",
              "      <th>2022-07-01</th>\n",
              "      <td>0.239486</td>\n",
              "      <td>0.121689</td>\n",
              "      <td>0.277523</td>\n",
              "      <td>0.099094</td>\n",
              "      <td>-0.016988</td>\n",
              "      <td>0.027030</td>\n",
              "      <td>0.038221</td>\n",
              "      <td>0.089015</td>\n",
              "      <td>0.251613</td>\n",
              "      <td>-0.037308</td>\n",
              "    </tr>\n",
              "    <tr>\n",
              "      <th>2022-08-01</th>\n",
              "      <td>-0.062530</td>\n",
              "      <td>-0.034390</td>\n",
              "      <td>0.036757</td>\n",
              "      <td>-0.042493</td>\n",
              "      <td>-0.078525</td>\n",
              "      <td>-0.039090</td>\n",
              "      <td>-0.047670</td>\n",
              "      <td>-0.071110</td>\n",
              "      <td>-0.005976</td>\n",
              "      <td>-0.102681</td>\n",
              "    </tr>\n",
              "    <tr>\n",
              "      <th>2022-09-01</th>\n",
              "      <td>-0.114987</td>\n",
              "      <td>-0.100308</td>\n",
              "      <td>-0.298086</td>\n",
              "      <td>-0.037731</td>\n",
              "      <td>0.019139</td>\n",
              "      <td>-0.096737</td>\n",
              "      <td>-0.155206</td>\n",
              "      <td>-0.113590</td>\n",
              "      <td>0.051776</td>\n",
              "      <td>-0.033040</td>\n",
              "    </tr>\n",
              "    <tr>\n",
              "      <th>2022-10-01</th>\n",
              "      <td>-0.098111</td>\n",
              "      <td>0.060053</td>\n",
              "      <td>0.177100</td>\n",
              "      <td>0.070615</td>\n",
              "      <td>0.062927</td>\n",
              "      <td>0.073397</td>\n",
              "      <td>0.001055</td>\n",
              "      <td>-0.003312</td>\n",
              "      <td>0.214887</td>\n",
              "      <td>0.061807</td>\n",
              "    </tr>\n",
              "    <tr>\n",
              "      <th>2022-11-01</th>\n",
              "      <td>-0.059320</td>\n",
              "      <td>0.074379</td>\n",
              "      <td>0.038875</td>\n",
              "      <td>0.089914</td>\n",
              "      <td>0.022901</td>\n",
              "      <td>0.060929</td>\n",
              "      <td>-0.039263</td>\n",
              "      <td>0.094515</td>\n",
              "      <td>0.045705</td>\n",
              "      <td>0.074093</td>\n",
              "    </tr>\n",
              "    <tr>\n",
              "      <th>2022-12-01</th>\n",
              "      <td>-0.139141</td>\n",
              "      <td>-0.166591</td>\n",
              "      <td>-0.167902</td>\n",
              "      <td>-0.019382</td>\n",
              "      <td>-0.001179</td>\n",
              "      <td>0.007067</td>\n",
              "      <td>-0.021625</td>\n",
              "      <td>-0.059110</td>\n",
              "      <td>-0.035479</td>\n",
              "      <td>0.030435</td>\n",
              "    </tr>\n",
              "  </tbody>\n",
              "</table>\n",
              "</div>\n",
              "      <button class=\"colab-df-convert\" onclick=\"convertToInteractive('df-953a8ea4-377e-4753-9ed2-a2320123da89')\"\n",
              "              title=\"Convert this dataframe to an interactive table.\"\n",
              "              style=\"display:none;\">\n",
              "        \n",
              "  <svg xmlns=\"http://www.w3.org/2000/svg\" height=\"24px\"viewBox=\"0 0 24 24\"\n",
              "       width=\"24px\">\n",
              "    <path d=\"M0 0h24v24H0V0z\" fill=\"none\"/>\n",
              "    <path d=\"M18.56 5.44l.94 2.06.94-2.06 2.06-.94-2.06-.94-.94-2.06-.94 2.06-2.06.94zm-11 1L8.5 8.5l.94-2.06 2.06-.94-2.06-.94L8.5 2.5l-.94 2.06-2.06.94zm10 10l.94 2.06.94-2.06 2.06-.94-2.06-.94-.94-2.06-.94 2.06-2.06.94z\"/><path d=\"M17.41 7.96l-1.37-1.37c-.4-.4-.92-.59-1.43-.59-.52 0-1.04.2-1.43.59L10.3 9.45l-7.72 7.72c-.78.78-.78 2.05 0 2.83L4 21.41c.39.39.9.59 1.41.59.51 0 1.02-.2 1.41-.59l7.78-7.78 2.81-2.81c.8-.78.8-2.07 0-2.86zM5.41 20L4 18.59l7.72-7.72 1.47 1.35L5.41 20z\"/>\n",
              "  </svg>\n",
              "      </button>\n",
              "      \n",
              "  <style>\n",
              "    .colab-df-container {\n",
              "      display:flex;\n",
              "      flex-wrap:wrap;\n",
              "      gap: 12px;\n",
              "    }\n",
              "\n",
              "    .colab-df-convert {\n",
              "      background-color: #E8F0FE;\n",
              "      border: none;\n",
              "      border-radius: 50%;\n",
              "      cursor: pointer;\n",
              "      display: none;\n",
              "      fill: #1967D2;\n",
              "      height: 32px;\n",
              "      padding: 0 0 0 0;\n",
              "      width: 32px;\n",
              "    }\n",
              "\n",
              "    .colab-df-convert:hover {\n",
              "      background-color: #E2EBFA;\n",
              "      box-shadow: 0px 1px 2px rgba(60, 64, 67, 0.3), 0px 1px 3px 1px rgba(60, 64, 67, 0.15);\n",
              "      fill: #174EA6;\n",
              "    }\n",
              "\n",
              "    [theme=dark] .colab-df-convert {\n",
              "      background-color: #3B4455;\n",
              "      fill: #D2E3FC;\n",
              "    }\n",
              "\n",
              "    [theme=dark] .colab-df-convert:hover {\n",
              "      background-color: #434B5C;\n",
              "      box-shadow: 0px 1px 3px 1px rgba(0, 0, 0, 0.15);\n",
              "      filter: drop-shadow(0px 1px 2px rgba(0, 0, 0, 0.3));\n",
              "      fill: #FFFFFF;\n",
              "    }\n",
              "  </style>\n",
              "\n",
              "      <script>\n",
              "        const buttonEl =\n",
              "          document.querySelector('#df-953a8ea4-377e-4753-9ed2-a2320123da89 button.colab-df-convert');\n",
              "        buttonEl.style.display =\n",
              "          google.colab.kernel.accessAllowed ? 'block' : 'none';\n",
              "\n",
              "        async function convertToInteractive(key) {\n",
              "          const element = document.querySelector('#df-953a8ea4-377e-4753-9ed2-a2320123da89');\n",
              "          const dataTable =\n",
              "            await google.colab.kernel.invokeFunction('convertToInteractive',\n",
              "                                                     [key], {});\n",
              "          if (!dataTable) return;\n",
              "\n",
              "          const docLinkHtml = 'Like what you see? Visit the ' +\n",
              "            '<a target=\"_blank\" href=https://colab.research.google.com/notebooks/data_table.ipynb>data table notebook</a>'\n",
              "            + ' to learn more about interactive tables.';\n",
              "          element.innerHTML = '';\n",
              "          dataTable['output_type'] = 'display_data';\n",
              "          await google.colab.output.renderOutput(dataTable, element);\n",
              "          const docLink = document.createElement('div');\n",
              "          docLink.innerHTML = docLinkHtml;\n",
              "          element.appendChild(docLink);\n",
              "        }\n",
              "      </script>\n",
              "    </div>\n",
              "  </div>\n",
              "  "
            ]
          },
          "metadata": {},
          "execution_count": 61
        }
      ],
      "source": [
        "activos = [\"MAT\", \"AMZN\",\"NFLX\",\"COST\",\"HD\",\"PFE\",\"KO\",\"F\", \"JNJ\",\"MSFT\"]\n",
        "precios = wb.get_data_yahoo(activos,start=\"2017-12-01\",end=\"2022-12-31\",interval=\"1Mo\")[\"Adj Close\"]\n",
        "retornos = np.log(precios/precios.shift()).dropna()\n",
        "retornos"
      ]
    },
    {
      "cell_type": "code",
      "source": [
        "mu=retornos.mean()\n",
        "mu"
      ],
      "metadata": {
        "colab": {
          "base_uri": "https://localhost:8080/"
        },
        "id": "SGctE64jACh2",
        "outputId": "496482cd-bb1c-455d-d6a7-e4649b48ad21"
      },
      "execution_count": null,
      "outputs": [
        {
          "output_type": "execute_result",
          "data": {
            "text/plain": [
              "AMZN    0.006037\n",
              "COST    0.016100\n",
              "F       0.001939\n",
              "HD      0.010480\n",
              "JNJ     0.006112\n",
              "KO      0.008096\n",
              "MAT     0.002473\n",
              "MSFT    0.018183\n",
              "NFLX    0.007155\n",
              "PFE     0.009691\n",
              "dtype: float64"
            ]
          },
          "metadata": {},
          "execution_count": 62
        }
      ]
    },
    {
      "cell_type": "code",
      "source": [
        "mu=retornos.mean()*12\n",
        "retornos_esperados=pd.DataFrame(mu)\n",
        "retornos_esperados.rename(columns={0:\"retornos\"},inplace=True)\n",
        "retornos_esperados"
      ],
      "metadata": {
        "colab": {
          "base_uri": "https://localhost:8080/",
          "height": 363
        },
        "id": "c-SE88w_ALwI",
        "outputId": "60d0d394-20f5-4e92-9cd7-5121e78c4b0c"
      },
      "execution_count": null,
      "outputs": [
        {
          "output_type": "execute_result",
          "data": {
            "text/plain": [
              "      retornos\n",
              "AMZN  0.072449\n",
              "COST  0.193198\n",
              "F     0.023266\n",
              "HD    0.125762\n",
              "JNJ   0.073348\n",
              "KO    0.097156\n",
              "MAT   0.029675\n",
              "MSFT  0.218191\n",
              "NFLX  0.085856\n",
              "PFE   0.116288"
            ],
            "text/html": [
              "\n",
              "  <div id=\"df-9b75c4f9-ac90-4643-8035-a48effac5a4f\">\n",
              "    <div class=\"colab-df-container\">\n",
              "      <div>\n",
              "<style scoped>\n",
              "    .dataframe tbody tr th:only-of-type {\n",
              "        vertical-align: middle;\n",
              "    }\n",
              "\n",
              "    .dataframe tbody tr th {\n",
              "        vertical-align: top;\n",
              "    }\n",
              "\n",
              "    .dataframe thead th {\n",
              "        text-align: right;\n",
              "    }\n",
              "</style>\n",
              "<table border=\"1\" class=\"dataframe\">\n",
              "  <thead>\n",
              "    <tr style=\"text-align: right;\">\n",
              "      <th></th>\n",
              "      <th>retornos</th>\n",
              "    </tr>\n",
              "  </thead>\n",
              "  <tbody>\n",
              "    <tr>\n",
              "      <th>AMZN</th>\n",
              "      <td>0.072449</td>\n",
              "    </tr>\n",
              "    <tr>\n",
              "      <th>COST</th>\n",
              "      <td>0.193198</td>\n",
              "    </tr>\n",
              "    <tr>\n",
              "      <th>F</th>\n",
              "      <td>0.023266</td>\n",
              "    </tr>\n",
              "    <tr>\n",
              "      <th>HD</th>\n",
              "      <td>0.125762</td>\n",
              "    </tr>\n",
              "    <tr>\n",
              "      <th>JNJ</th>\n",
              "      <td>0.073348</td>\n",
              "    </tr>\n",
              "    <tr>\n",
              "      <th>KO</th>\n",
              "      <td>0.097156</td>\n",
              "    </tr>\n",
              "    <tr>\n",
              "      <th>MAT</th>\n",
              "      <td>0.029675</td>\n",
              "    </tr>\n",
              "    <tr>\n",
              "      <th>MSFT</th>\n",
              "      <td>0.218191</td>\n",
              "    </tr>\n",
              "    <tr>\n",
              "      <th>NFLX</th>\n",
              "      <td>0.085856</td>\n",
              "    </tr>\n",
              "    <tr>\n",
              "      <th>PFE</th>\n",
              "      <td>0.116288</td>\n",
              "    </tr>\n",
              "  </tbody>\n",
              "</table>\n",
              "</div>\n",
              "      <button class=\"colab-df-convert\" onclick=\"convertToInteractive('df-9b75c4f9-ac90-4643-8035-a48effac5a4f')\"\n",
              "              title=\"Convert this dataframe to an interactive table.\"\n",
              "              style=\"display:none;\">\n",
              "        \n",
              "  <svg xmlns=\"http://www.w3.org/2000/svg\" height=\"24px\"viewBox=\"0 0 24 24\"\n",
              "       width=\"24px\">\n",
              "    <path d=\"M0 0h24v24H0V0z\" fill=\"none\"/>\n",
              "    <path d=\"M18.56 5.44l.94 2.06.94-2.06 2.06-.94-2.06-.94-.94-2.06-.94 2.06-2.06.94zm-11 1L8.5 8.5l.94-2.06 2.06-.94-2.06-.94L8.5 2.5l-.94 2.06-2.06.94zm10 10l.94 2.06.94-2.06 2.06-.94-2.06-.94-.94-2.06-.94 2.06-2.06.94z\"/><path d=\"M17.41 7.96l-1.37-1.37c-.4-.4-.92-.59-1.43-.59-.52 0-1.04.2-1.43.59L10.3 9.45l-7.72 7.72c-.78.78-.78 2.05 0 2.83L4 21.41c.39.39.9.59 1.41.59.51 0 1.02-.2 1.41-.59l7.78-7.78 2.81-2.81c.8-.78.8-2.07 0-2.86zM5.41 20L4 18.59l7.72-7.72 1.47 1.35L5.41 20z\"/>\n",
              "  </svg>\n",
              "      </button>\n",
              "      \n",
              "  <style>\n",
              "    .colab-df-container {\n",
              "      display:flex;\n",
              "      flex-wrap:wrap;\n",
              "      gap: 12px;\n",
              "    }\n",
              "\n",
              "    .colab-df-convert {\n",
              "      background-color: #E8F0FE;\n",
              "      border: none;\n",
              "      border-radius: 50%;\n",
              "      cursor: pointer;\n",
              "      display: none;\n",
              "      fill: #1967D2;\n",
              "      height: 32px;\n",
              "      padding: 0 0 0 0;\n",
              "      width: 32px;\n",
              "    }\n",
              "\n",
              "    .colab-df-convert:hover {\n",
              "      background-color: #E2EBFA;\n",
              "      box-shadow: 0px 1px 2px rgba(60, 64, 67, 0.3), 0px 1px 3px 1px rgba(60, 64, 67, 0.15);\n",
              "      fill: #174EA6;\n",
              "    }\n",
              "\n",
              "    [theme=dark] .colab-df-convert {\n",
              "      background-color: #3B4455;\n",
              "      fill: #D2E3FC;\n",
              "    }\n",
              "\n",
              "    [theme=dark] .colab-df-convert:hover {\n",
              "      background-color: #434B5C;\n",
              "      box-shadow: 0px 1px 3px 1px rgba(0, 0, 0, 0.15);\n",
              "      filter: drop-shadow(0px 1px 2px rgba(0, 0, 0, 0.3));\n",
              "      fill: #FFFFFF;\n",
              "    }\n",
              "  </style>\n",
              "\n",
              "      <script>\n",
              "        const buttonEl =\n",
              "          document.querySelector('#df-9b75c4f9-ac90-4643-8035-a48effac5a4f button.colab-df-convert');\n",
              "        buttonEl.style.display =\n",
              "          google.colab.kernel.accessAllowed ? 'block' : 'none';\n",
              "\n",
              "        async function convertToInteractive(key) {\n",
              "          const element = document.querySelector('#df-9b75c4f9-ac90-4643-8035-a48effac5a4f');\n",
              "          const dataTable =\n",
              "            await google.colab.kernel.invokeFunction('convertToInteractive',\n",
              "                                                     [key], {});\n",
              "          if (!dataTable) return;\n",
              "\n",
              "          const docLinkHtml = 'Like what you see? Visit the ' +\n",
              "            '<a target=\"_blank\" href=https://colab.research.google.com/notebooks/data_table.ipynb>data table notebook</a>'\n",
              "            + ' to learn more about interactive tables.';\n",
              "          element.innerHTML = '';\n",
              "          dataTable['output_type'] = 'display_data';\n",
              "          await google.colab.output.renderOutput(dataTable, element);\n",
              "          const docLink = document.createElement('div');\n",
              "          docLink.innerHTML = docLinkHtml;\n",
              "          element.appendChild(docLink);\n",
              "        }\n",
              "      </script>\n",
              "    </div>\n",
              "  </div>\n",
              "  "
            ]
          },
          "metadata": {},
          "execution_count": 63
        }
      ]
    },
    {
      "cell_type": "code",
      "source": [
        "sigma= retornos.std()*np.sqrt(12)\n",
        "volatilidad_anualizada=pd.DataFrame(sigma)\n",
        "volatilidad_anualizada.rename(columns={0:\"volatilidad\"},inplace=True)\n",
        "volatilidad_anualizada"
      ],
      "metadata": {
        "colab": {
          "base_uri": "https://localhost:8080/",
          "height": 363
        },
        "id": "rkUdXOavEiJp",
        "outputId": "2a1eea82-55e3-4114-b370-7d9bda8c0fbc"
      },
      "execution_count": null,
      "outputs": [
        {
          "output_type": "execute_result",
          "data": {
            "text/plain": [
              "      volatilidad\n",
              "AMZN     0.338207\n",
              "COST     0.220505\n",
              "F        0.431608\n",
              "HD       0.246254\n",
              "JNJ      0.177298\n",
              "KO       0.197600\n",
              "MAT      0.452844\n",
              "MSFT     0.212894\n",
              "NFLX     0.487256\n",
              "PFE      0.252340"
            ],
            "text/html": [
              "\n",
              "  <div id=\"df-a56df32d-330c-4de9-89cb-5f2b9df6dd89\">\n",
              "    <div class=\"colab-df-container\">\n",
              "      <div>\n",
              "<style scoped>\n",
              "    .dataframe tbody tr th:only-of-type {\n",
              "        vertical-align: middle;\n",
              "    }\n",
              "\n",
              "    .dataframe tbody tr th {\n",
              "        vertical-align: top;\n",
              "    }\n",
              "\n",
              "    .dataframe thead th {\n",
              "        text-align: right;\n",
              "    }\n",
              "</style>\n",
              "<table border=\"1\" class=\"dataframe\">\n",
              "  <thead>\n",
              "    <tr style=\"text-align: right;\">\n",
              "      <th></th>\n",
              "      <th>volatilidad</th>\n",
              "    </tr>\n",
              "  </thead>\n",
              "  <tbody>\n",
              "    <tr>\n",
              "      <th>AMZN</th>\n",
              "      <td>0.338207</td>\n",
              "    </tr>\n",
              "    <tr>\n",
              "      <th>COST</th>\n",
              "      <td>0.220505</td>\n",
              "    </tr>\n",
              "    <tr>\n",
              "      <th>F</th>\n",
              "      <td>0.431608</td>\n",
              "    </tr>\n",
              "    <tr>\n",
              "      <th>HD</th>\n",
              "      <td>0.246254</td>\n",
              "    </tr>\n",
              "    <tr>\n",
              "      <th>JNJ</th>\n",
              "      <td>0.177298</td>\n",
              "    </tr>\n",
              "    <tr>\n",
              "      <th>KO</th>\n",
              "      <td>0.197600</td>\n",
              "    </tr>\n",
              "    <tr>\n",
              "      <th>MAT</th>\n",
              "      <td>0.452844</td>\n",
              "    </tr>\n",
              "    <tr>\n",
              "      <th>MSFT</th>\n",
              "      <td>0.212894</td>\n",
              "    </tr>\n",
              "    <tr>\n",
              "      <th>NFLX</th>\n",
              "      <td>0.487256</td>\n",
              "    </tr>\n",
              "    <tr>\n",
              "      <th>PFE</th>\n",
              "      <td>0.252340</td>\n",
              "    </tr>\n",
              "  </tbody>\n",
              "</table>\n",
              "</div>\n",
              "      <button class=\"colab-df-convert\" onclick=\"convertToInteractive('df-a56df32d-330c-4de9-89cb-5f2b9df6dd89')\"\n",
              "              title=\"Convert this dataframe to an interactive table.\"\n",
              "              style=\"display:none;\">\n",
              "        \n",
              "  <svg xmlns=\"http://www.w3.org/2000/svg\" height=\"24px\"viewBox=\"0 0 24 24\"\n",
              "       width=\"24px\">\n",
              "    <path d=\"M0 0h24v24H0V0z\" fill=\"none\"/>\n",
              "    <path d=\"M18.56 5.44l.94 2.06.94-2.06 2.06-.94-2.06-.94-.94-2.06-.94 2.06-2.06.94zm-11 1L8.5 8.5l.94-2.06 2.06-.94-2.06-.94L8.5 2.5l-.94 2.06-2.06.94zm10 10l.94 2.06.94-2.06 2.06-.94-2.06-.94-.94-2.06-.94 2.06-2.06.94z\"/><path d=\"M17.41 7.96l-1.37-1.37c-.4-.4-.92-.59-1.43-.59-.52 0-1.04.2-1.43.59L10.3 9.45l-7.72 7.72c-.78.78-.78 2.05 0 2.83L4 21.41c.39.39.9.59 1.41.59.51 0 1.02-.2 1.41-.59l7.78-7.78 2.81-2.81c.8-.78.8-2.07 0-2.86zM5.41 20L4 18.59l7.72-7.72 1.47 1.35L5.41 20z\"/>\n",
              "  </svg>\n",
              "      </button>\n",
              "      \n",
              "  <style>\n",
              "    .colab-df-container {\n",
              "      display:flex;\n",
              "      flex-wrap:wrap;\n",
              "      gap: 12px;\n",
              "    }\n",
              "\n",
              "    .colab-df-convert {\n",
              "      background-color: #E8F0FE;\n",
              "      border: none;\n",
              "      border-radius: 50%;\n",
              "      cursor: pointer;\n",
              "      display: none;\n",
              "      fill: #1967D2;\n",
              "      height: 32px;\n",
              "      padding: 0 0 0 0;\n",
              "      width: 32px;\n",
              "    }\n",
              "\n",
              "    .colab-df-convert:hover {\n",
              "      background-color: #E2EBFA;\n",
              "      box-shadow: 0px 1px 2px rgba(60, 64, 67, 0.3), 0px 1px 3px 1px rgba(60, 64, 67, 0.15);\n",
              "      fill: #174EA6;\n",
              "    }\n",
              "\n",
              "    [theme=dark] .colab-df-convert {\n",
              "      background-color: #3B4455;\n",
              "      fill: #D2E3FC;\n",
              "    }\n",
              "\n",
              "    [theme=dark] .colab-df-convert:hover {\n",
              "      background-color: #434B5C;\n",
              "      box-shadow: 0px 1px 3px 1px rgba(0, 0, 0, 0.15);\n",
              "      filter: drop-shadow(0px 1px 2px rgba(0, 0, 0, 0.3));\n",
              "      fill: #FFFFFF;\n",
              "    }\n",
              "  </style>\n",
              "\n",
              "      <script>\n",
              "        const buttonEl =\n",
              "          document.querySelector('#df-a56df32d-330c-4de9-89cb-5f2b9df6dd89 button.colab-df-convert');\n",
              "        buttonEl.style.display =\n",
              "          google.colab.kernel.accessAllowed ? 'block' : 'none';\n",
              "\n",
              "        async function convertToInteractive(key) {\n",
              "          const element = document.querySelector('#df-a56df32d-330c-4de9-89cb-5f2b9df6dd89');\n",
              "          const dataTable =\n",
              "            await google.colab.kernel.invokeFunction('convertToInteractive',\n",
              "                                                     [key], {});\n",
              "          if (!dataTable) return;\n",
              "\n",
              "          const docLinkHtml = 'Like what you see? Visit the ' +\n",
              "            '<a target=\"_blank\" href=https://colab.research.google.com/notebooks/data_table.ipynb>data table notebook</a>'\n",
              "            + ' to learn more about interactive tables.';\n",
              "          element.innerHTML = '';\n",
              "          dataTable['output_type'] = 'display_data';\n",
              "          await google.colab.output.renderOutput(dataTable, element);\n",
              "          const docLink = document.createElement('div');\n",
              "          docLink.innerHTML = docLinkHtml;\n",
              "          element.appendChild(docLink);\n",
              "        }\n",
              "      </script>\n",
              "    </div>\n",
              "  </div>\n",
              "  "
            ]
          },
          "metadata": {},
          "execution_count": 64
        }
      ]
    },
    {
      "cell_type": "markdown",
      "source": [
        "b. Construya una tabla en la que se muestre un ranqueo de los activos de acuerdo con su  retorno esperado. "
      ],
      "metadata": {
        "id": "ejGBabhbFIBr"
      }
    },
    {
      "cell_type": "code",
      "source": [
        "retornos_ordenados=retornos_esperados.sort_values(\"retornos\")\n",
        "retornos_ordenados"
      ],
      "metadata": {
        "colab": {
          "base_uri": "https://localhost:8080/",
          "height": 363
        },
        "id": "XBI3KcB7Br7J",
        "outputId": "8db25f40-a88c-4104-a3e2-c27ff2347dd4"
      },
      "execution_count": null,
      "outputs": [
        {
          "output_type": "execute_result",
          "data": {
            "text/plain": [
              "      retornos\n",
              "F     0.023266\n",
              "MAT   0.029675\n",
              "AMZN  0.072449\n",
              "JNJ   0.073348\n",
              "NFLX  0.085856\n",
              "KO    0.097156\n",
              "PFE   0.116288\n",
              "HD    0.125762\n",
              "COST  0.193198\n",
              "MSFT  0.218191"
            ],
            "text/html": [
              "\n",
              "  <div id=\"df-7df067f4-70aa-48b1-b8a0-b0db170d4f7f\">\n",
              "    <div class=\"colab-df-container\">\n",
              "      <div>\n",
              "<style scoped>\n",
              "    .dataframe tbody tr th:only-of-type {\n",
              "        vertical-align: middle;\n",
              "    }\n",
              "\n",
              "    .dataframe tbody tr th {\n",
              "        vertical-align: top;\n",
              "    }\n",
              "\n",
              "    .dataframe thead th {\n",
              "        text-align: right;\n",
              "    }\n",
              "</style>\n",
              "<table border=\"1\" class=\"dataframe\">\n",
              "  <thead>\n",
              "    <tr style=\"text-align: right;\">\n",
              "      <th></th>\n",
              "      <th>retornos</th>\n",
              "    </tr>\n",
              "  </thead>\n",
              "  <tbody>\n",
              "    <tr>\n",
              "      <th>F</th>\n",
              "      <td>0.023266</td>\n",
              "    </tr>\n",
              "    <tr>\n",
              "      <th>MAT</th>\n",
              "      <td>0.029675</td>\n",
              "    </tr>\n",
              "    <tr>\n",
              "      <th>AMZN</th>\n",
              "      <td>0.072449</td>\n",
              "    </tr>\n",
              "    <tr>\n",
              "      <th>JNJ</th>\n",
              "      <td>0.073348</td>\n",
              "    </tr>\n",
              "    <tr>\n",
              "      <th>NFLX</th>\n",
              "      <td>0.085856</td>\n",
              "    </tr>\n",
              "    <tr>\n",
              "      <th>KO</th>\n",
              "      <td>0.097156</td>\n",
              "    </tr>\n",
              "    <tr>\n",
              "      <th>PFE</th>\n",
              "      <td>0.116288</td>\n",
              "    </tr>\n",
              "    <tr>\n",
              "      <th>HD</th>\n",
              "      <td>0.125762</td>\n",
              "    </tr>\n",
              "    <tr>\n",
              "      <th>COST</th>\n",
              "      <td>0.193198</td>\n",
              "    </tr>\n",
              "    <tr>\n",
              "      <th>MSFT</th>\n",
              "      <td>0.218191</td>\n",
              "    </tr>\n",
              "  </tbody>\n",
              "</table>\n",
              "</div>\n",
              "      <button class=\"colab-df-convert\" onclick=\"convertToInteractive('df-7df067f4-70aa-48b1-b8a0-b0db170d4f7f')\"\n",
              "              title=\"Convert this dataframe to an interactive table.\"\n",
              "              style=\"display:none;\">\n",
              "        \n",
              "  <svg xmlns=\"http://www.w3.org/2000/svg\" height=\"24px\"viewBox=\"0 0 24 24\"\n",
              "       width=\"24px\">\n",
              "    <path d=\"M0 0h24v24H0V0z\" fill=\"none\"/>\n",
              "    <path d=\"M18.56 5.44l.94 2.06.94-2.06 2.06-.94-2.06-.94-.94-2.06-.94 2.06-2.06.94zm-11 1L8.5 8.5l.94-2.06 2.06-.94-2.06-.94L8.5 2.5l-.94 2.06-2.06.94zm10 10l.94 2.06.94-2.06 2.06-.94-2.06-.94-.94-2.06-.94 2.06-2.06.94z\"/><path d=\"M17.41 7.96l-1.37-1.37c-.4-.4-.92-.59-1.43-.59-.52 0-1.04.2-1.43.59L10.3 9.45l-7.72 7.72c-.78.78-.78 2.05 0 2.83L4 21.41c.39.39.9.59 1.41.59.51 0 1.02-.2 1.41-.59l7.78-7.78 2.81-2.81c.8-.78.8-2.07 0-2.86zM5.41 20L4 18.59l7.72-7.72 1.47 1.35L5.41 20z\"/>\n",
              "  </svg>\n",
              "      </button>\n",
              "      \n",
              "  <style>\n",
              "    .colab-df-container {\n",
              "      display:flex;\n",
              "      flex-wrap:wrap;\n",
              "      gap: 12px;\n",
              "    }\n",
              "\n",
              "    .colab-df-convert {\n",
              "      background-color: #E8F0FE;\n",
              "      border: none;\n",
              "      border-radius: 50%;\n",
              "      cursor: pointer;\n",
              "      display: none;\n",
              "      fill: #1967D2;\n",
              "      height: 32px;\n",
              "      padding: 0 0 0 0;\n",
              "      width: 32px;\n",
              "    }\n",
              "\n",
              "    .colab-df-convert:hover {\n",
              "      background-color: #E2EBFA;\n",
              "      box-shadow: 0px 1px 2px rgba(60, 64, 67, 0.3), 0px 1px 3px 1px rgba(60, 64, 67, 0.15);\n",
              "      fill: #174EA6;\n",
              "    }\n",
              "\n",
              "    [theme=dark] .colab-df-convert {\n",
              "      background-color: #3B4455;\n",
              "      fill: #D2E3FC;\n",
              "    }\n",
              "\n",
              "    [theme=dark] .colab-df-convert:hover {\n",
              "      background-color: #434B5C;\n",
              "      box-shadow: 0px 1px 3px 1px rgba(0, 0, 0, 0.15);\n",
              "      filter: drop-shadow(0px 1px 2px rgba(0, 0, 0, 0.3));\n",
              "      fill: #FFFFFF;\n",
              "    }\n",
              "  </style>\n",
              "\n",
              "      <script>\n",
              "        const buttonEl =\n",
              "          document.querySelector('#df-7df067f4-70aa-48b1-b8a0-b0db170d4f7f button.colab-df-convert');\n",
              "        buttonEl.style.display =\n",
              "          google.colab.kernel.accessAllowed ? 'block' : 'none';\n",
              "\n",
              "        async function convertToInteractive(key) {\n",
              "          const element = document.querySelector('#df-7df067f4-70aa-48b1-b8a0-b0db170d4f7f');\n",
              "          const dataTable =\n",
              "            await google.colab.kernel.invokeFunction('convertToInteractive',\n",
              "                                                     [key], {});\n",
              "          if (!dataTable) return;\n",
              "\n",
              "          const docLinkHtml = 'Like what you see? Visit the ' +\n",
              "            '<a target=\"_blank\" href=https://colab.research.google.com/notebooks/data_table.ipynb>data table notebook</a>'\n",
              "            + ' to learn more about interactive tables.';\n",
              "          element.innerHTML = '';\n",
              "          dataTable['output_type'] = 'display_data';\n",
              "          await google.colab.output.renderOutput(dataTable, element);\n",
              "          const docLink = document.createElement('div');\n",
              "          docLink.innerHTML = docLinkHtml;\n",
              "          element.appendChild(docLink);\n",
              "        }\n",
              "      </script>\n",
              "    </div>\n",
              "  </div>\n",
              "  "
            ]
          },
          "metadata": {},
          "execution_count": 65
        }
      ]
    },
    {
      "cell_type": "markdown",
      "source": [
        "3. Descargue la serie mensual de precios del índice estadounidense Rusell para el periodo  Dic-11 a Dic-2022. Con esta información calcule la volatilidad mensual y anualizada usando  las siguientes medidas: "
      ],
      "metadata": {
        "id": "iIWP3ionNL2v"
      }
    },
    {
      "cell_type": "code",
      "source": [
        "indice = wb.get_data_yahoo(\"^RUT\",start=\"2011-12-01\",end=\"2022-12-31\", interval=\"1Mo\")[\"Adj Close\"].dropna()\n",
        "retornos = np.log(indice/indice.shift()).dropna()"
      ],
      "metadata": {
        "colab": {
          "base_uri": "https://localhost:8080/"
        },
        "id": "fbeVrcMvOYEm",
        "outputId": "52905047-c9c0-4c50-f44b-bc7bce69854b"
      },
      "execution_count": null,
      "outputs": [
        {
          "output_type": "stream",
          "name": "stdout",
          "text": [
            "\r[*********************100%***********************]  1 of 1 completed\n"
          ]
        }
      ]
    },
    {
      "cell_type": "markdown",
      "source": [
        "a. Desviación estándar "
      ],
      "metadata": {
        "id": "sZF86goXNRMe"
      }
    },
    {
      "cell_type": "code",
      "source": [
        "#volatilidad mensual\n",
        "retornos.std()"
      ],
      "metadata": {
        "colab": {
          "base_uri": "https://localhost:8080/"
        },
        "id": "AwoEwztkEdtb",
        "outputId": "5bb5dfbb-72d3-4d1f-9f96-16ff9cfa01e2"
      },
      "execution_count": null,
      "outputs": [
        {
          "output_type": "execute_result",
          "data": {
            "text/plain": [
              "0.05474479591479422"
            ]
          },
          "metadata": {},
          "execution_count": 67
        }
      ]
    },
    {
      "cell_type": "code",
      "source": [
        "#volatiliadad anual\n",
        "retornos.std()*np.sqrt(252)"
      ],
      "metadata": {
        "colab": {
          "base_uri": "https://localhost:8080/"
        },
        "id": "XZsX_AzLNe92",
        "outputId": "9e05d90a-e3e2-4138-ff93-1db20ad59232"
      },
      "execution_count": null,
      "outputs": [
        {
          "output_type": "execute_result",
          "data": {
            "text/plain": [
              "0.8690466933931815"
            ]
          },
          "metadata": {},
          "execution_count": 68
        }
      ]
    },
    {
      "cell_type": "markdown",
      "source": [
        "b. Parkinson "
      ],
      "metadata": {
        "id": "8CTjX3mLNiyF"
      }
    },
    {
      "cell_type": "code",
      "source": [
        "indice = wb.get_data_yahoo(\"^RUT\",start=\"2011-12-01\",end=\"2022-12-31\", interval=\"1Mo\").dropna()"
      ],
      "metadata": {
        "colab": {
          "base_uri": "https://localhost:8080/"
        },
        "id": "r8r7IIMzOm32",
        "outputId": "a1e3b690-1d5f-45b2-c873-8c53fa656d68"
      },
      "execution_count": null,
      "outputs": [
        {
          "output_type": "stream",
          "name": "stdout",
          "text": [
            "\r[*********************100%***********************]  1 of 1 completed\n"
          ]
        }
      ]
    },
    {
      "cell_type": "code",
      "source": [
        "lnHL = np.log(indice[\"High\"]/indice[\"Low\"]).dropna()\n",
        "sigmaPark_d = ((1/(4*np.log(2)))*lnHL**2)**0.5\n",
        "sigmaPark_d.plot();"
      ],
      "metadata": {
        "colab": {
          "base_uri": "https://localhost:8080/",
          "height": 279
        },
        "id": "NdNIQo4ONqvC",
        "outputId": "495e2e0b-58ad-493c-cb09-43d2e08b5377"
      },
      "execution_count": null,
      "outputs": [
        {
          "output_type": "display_data",
          "data": {
            "text/plain": [
              "<Figure size 432x288 with 1 Axes>"
            ],
            "image/png": "[encoded data removed]"
          },
          "metadata": {
            "needs_background": "light"
          }
        }
      ]
    },
    {
      "cell_type": "code",
      "source": [
        "(sigmaPark_d.mean())*np.sqrt(12)"
      ],
      "metadata": {
        "colab": {
          "base_uri": "https://localhost:8080/"
        },
        "id": "_z5Wu65ENtFY",
        "outputId": "64dd194b-5418-4966-c69c-40c9e239c4f9"
      },
      "execution_count": null,
      "outputs": [
        {
          "output_type": "execute_result",
          "data": {
            "text/plain": [
              "0.1767113126308943"
            ]
          },
          "metadata": {},
          "execution_count": 71
        }
      ]
    },
    {
      "cell_type": "markdown",
      "source": [
        "c. Garman-Klass  "
      ],
      "metadata": {
        "id": "5M79ibqaNvDo"
      }
    },
    {
      "cell_type": "code",
      "source": [
        "lnHL = np.log(indice[\"High\"]/indice[\"Low\"]).dropna()\n",
        "lnCO = np.log(indice[\"Close\"]/indice[\"Open\"]).dropna()\n",
        "sigmaGK_d = (0.5*lnHL**2-(2*np.log(2)-1)*lnCO**2)**0.5\n",
        "sigmaGK_d.plot();"
      ],
      "metadata": {
        "colab": {
          "base_uri": "https://localhost:8080/",
          "height": 280
        },
        "id": "v4FOJKwHNxfG",
        "outputId": "6c9a8a7c-5c1f-47a0-93b8-c869b97c9bd4"
      },
      "execution_count": null,
      "outputs": [
        {
          "output_type": "display_data",
          "data": {
            "text/plain": [
              "<Figure size 432x288 with 1 Axes>"
            ],
            "image/png": "[encoded data removed]"
          },
          "metadata": {
            "needs_background": "light"
          }
        }
      ]
    },
    {
      "cell_type": "code",
      "source": [
        "(sigmaGK_d.mean())*np.sqrt(12)"
      ],
      "metadata": {
        "colab": {
          "base_uri": "https://localhost:8080/"
        },
        "id": "7MfdRvXGN0Dn",
        "outputId": "099e3995-56f4-4444-8367-673764fb950f"
      },
      "execution_count": null,
      "outputs": [
        {
          "output_type": "execute_result",
          "data": {
            "text/plain": [
              "0.1815139038491142"
            ]
          },
          "metadata": {},
          "execution_count": 73
        }
      ]
    },
    {
      "cell_type": "markdown",
      "source": [
        "d. Volatilidad ponderada exponencial (EWMA) con una lambda de 0.94. "
      ],
      "metadata": {
        "id": "U-jYtgoFN29B"
      }
    },
    {
      "cell_type": "code",
      "source": [
        "indice = yf.download(\"^RUT\",start=\"2011-12-01\",end=\"2022-12-31\", interval=\"1Mo\")[\"Adj Close\"]\n",
        "retornos = np.log(indice/indice.shift()).dropna()"
      ],
      "metadata": {
        "colab": {
          "base_uri": "https://localhost:8080/"
        },
        "id": "cISr7k92N7M3",
        "outputId": "990b1e25-a0bb-4d59-92e3-3a379fdc3f7b"
      },
      "execution_count": null,
      "outputs": [
        {
          "output_type": "stream",
          "name": "stdout",
          "text": [
            "\r[*********************100%***********************]  1 of 1 completed\n"
          ]
        }
      ]
    },
    {
      "cell_type": "code",
      "source": [
        "Lambda = 0.94\n",
        "def vol_ewma(retornos,Lambda):#implementacion de lo anteriormente programado\n",
        "  k = len(retornos) \n",
        "  td = np.arange(k-1,-1,-1) \n",
        "  alpha = Lambda**td\n",
        "  var_s= (retornos**2*alpha).sum()*(1-Lambda)\n",
        "  vol_d=np.sqrt(var_s)\n",
        "  return(vol_d)"
      ],
      "metadata": {
        "id": "H9SQ9sAxN-RS"
      },
      "execution_count": null,
      "outputs": []
    },
    {
      "cell_type": "code",
      "source": [
        "vol_ewma(retornos,Lambda=0.94)"
      ],
      "metadata": {
        "colab": {
          "base_uri": "https://localhost:8080/"
        },
        "id": "cGtXKOxqOCBl",
        "outputId": "1513aa6d-89c9-47bf-95d3-dadb7534fe7a"
      },
      "execution_count": null,
      "outputs": [
        {
          "output_type": "execute_result",
          "data": {
            "text/plain": [
              "0.06830769009655513"
            ]
          },
          "metadata": {},
          "execution_count": 76
        }
      ]
    },
    {
      "cell_type": "code",
      "source": [
        "(vol_ewma(retornos,Lambda=0.94))*np.sqrt(12)"
      ],
      "metadata": {
        "colab": {
          "base_uri": "https://localhost:8080/"
        },
        "id": "ELgYDTGNOCkg",
        "outputId": "148243a0-0e77-41e1-d1af-01432743e0c0"
      },
      "execution_count": null,
      "outputs": [
        {
          "output_type": "execute_result",
          "data": {
            "text/plain": [
              "0.23662477958980582"
            ]
          },
          "metadata": {},
          "execution_count": 77
        }
      ]
    }
  ]
}